{
 "cells": [
  {
   "cell_type": "markdown",
   "metadata": {},
   "source": [
    "# CDS503 Lab 2: KNN (Julia)"
   ]
  },
  {
   "cell_type": "code",
   "execution_count": 31,
   "metadata": {},
   "outputs": [],
   "source": [
    "using DataFrames\n",
    "using CSV\n",
    "# using XLSX\n",
    "using Plots\n",
    "using Statistics\n",
    "using LinearAlgebra\n",
    "using StatsPlots\n",
    "\n",
    "using Random\n",
    "\n",
    "using MLLabelUtils  # label encoding\n",
    "using MLDataUtils   # splitobs, getobs"
   ]
  },
  {
   "cell_type": "code",
   "execution_count": 107,
   "metadata": {},
   "outputs": [
    {
     "name": "stdout",
     "output_type": "stream",
     "text": [
      "5×8 DataFrame\n",
      "│ Row │ Survived │ Pclass │ Name                                               │\n",
      "│     │ \u001b[90mInt64\u001b[39m    │ \u001b[90mInt64\u001b[39m  │ \u001b[90mString\u001b[39m                                             │\n",
      "├─────┼──────────┼────────┼────────────────────────────────────────────────────┤\n",
      "│ 1   │ 0        │ 3      │ Mr. Owen Harris Braund                             │\n",
      "│ 2   │ 1        │ 1      │ Mrs. John Bradley (Florence Briggs Thayer) Cumings │\n",
      "│ 3   │ 1        │ 3      │ Miss. Laina Heikkinen                              │\n",
      "│ 4   │ 1        │ 1      │ Mrs. Jacques Heath (Lily May Peel) Futrelle        │\n",
      "│ 5   │ 0        │ 3      │ Mr. William Henry Allen                            │\n",
      "\n",
      "│ Row │ Sex    │ Age     │ Siblings/Spouses Aboard │ Parents/Children Aboard │\n",
      "│     │ \u001b[90mString\u001b[39m │ \u001b[90mFloat64\u001b[39m │ \u001b[90mInt64\u001b[39m                   │ \u001b[90mInt64\u001b[39m                   │\n",
      "├─────┼────────┼─────────┼─────────────────────────┼─────────────────────────┤\n",
      "│ 1   │ male   │ 22.0    │ 1                       │ 0                       │\n",
      "│ 2   │ female │ 38.0    │ 1                       │ 0                       │\n",
      "│ 3   │ female │ 26.0    │ 0                       │ 0                       │\n",
      "│ 4   │ female │ 35.0    │ 1                       │ 0                       │\n",
      "│ 5   │ male   │ 35.0    │ 0                       │ 0                       │\n",
      "\n",
      "│ Row │ Fare    │\n",
      "│     │ \u001b[90mFloat64\u001b[39m │\n",
      "├─────┼─────────┤\n",
      "│ 1   │ 7.25    │\n",
      "│ 2   │ 71.2833 │\n",
      "│ 3   │ 7.925   │\n",
      "│ 4   │ 53.1    │\n",
      "│ 5   │ 8.05    │"
     ]
    }
   ],
   "source": [
    "df = CSV.read(\"..//data//titanic.csv\", copycols=true);\n",
    "show(first(df, 5), allcols=true)"
   ]
  },
  {
   "cell_type": "code",
   "execution_count": 108,
   "metadata": {},
   "outputs": [
    {
     "data": {
      "text/plain": [
       "(887, 8)"
      ]
     },
     "execution_count": 108,
     "metadata": {},
     "output_type": "execute_result"
    }
   ],
   "source": [
    "size(df)"
   ]
  },
  {
   "cell_type": "code",
   "execution_count": 109,
   "metadata": {},
   "outputs": [
    {
     "name": "stdout",
     "output_type": "stream",
     "text": [
      "5×8 DataFrame\n",
      "│ Row │ survived │ pclass │ name                                               │\n",
      "│     │ \u001b[90mInt64\u001b[39m    │ \u001b[90mInt64\u001b[39m  │ \u001b[90mString\u001b[39m                                             │\n",
      "├─────┼──────────┼────────┼────────────────────────────────────────────────────┤\n",
      "│ 1   │ 0        │ 3      │ Mr. Owen Harris Braund                             │\n",
      "│ 2   │ 1        │ 1      │ Mrs. John Bradley (Florence Briggs Thayer) Cumings │\n",
      "│ 3   │ 1        │ 3      │ Miss. Laina Heikkinen                              │\n",
      "│ 4   │ 1        │ 1      │ Mrs. Jacques Heath (Lily May Peel) Futrelle        │\n",
      "│ 5   │ 0        │ 3      │ Mr. William Henry Allen                            │\n",
      "\n",
      "│ Row │ sex    │ age     │ siblingsspouses │ parentschildren │ fare    │\n",
      "│     │ \u001b[90mString\u001b[39m │ \u001b[90mFloat64\u001b[39m │ \u001b[90mInt64\u001b[39m           │ \u001b[90mInt64\u001b[39m           │ \u001b[90mFloat64\u001b[39m │\n",
      "├─────┼────────┼─────────┼─────────────────┼─────────────────┼─────────┤\n",
      "│ 1   │ male   │ 22.0    │ 1               │ 0               │ 7.25    │\n",
      "│ 2   │ female │ 38.0    │ 1               │ 0               │ 71.2833 │\n",
      "│ 3   │ female │ 26.0    │ 0               │ 0               │ 7.925   │\n",
      "│ 4   │ female │ 35.0    │ 1               │ 0               │ 53.1    │\n",
      "│ 5   │ male   │ 35.0    │ 0               │ 0               │ 8.05    │"
     ]
    }
   ],
   "source": [
    "oldnames = names(df)\n",
    "newnames = [\n",
    "    :survived,\n",
    "    :pclass,\n",
    "    :name,\n",
    "    :sex,\n",
    "    :age,\n",
    "    :siblingsspouses,\n",
    "    :parentschildren,\n",
    "    :fare\n",
    "]\n",
    "\n",
    "rename!(df, [ oldnames[i] => newnames[i] for i in 1:length(newnames) ])\n",
    "\n",
    "show(first(df, 5), allcols=true)"
   ]
  },
  {
   "cell_type": "code",
   "execution_count": 110,
   "metadata": {},
   "outputs": [
    {
     "name": "stdout",
     "output_type": "stream",
     "text": [
      "5×7 DataFrame\n",
      "│ Row │ survived │ pclass │ sex    │ age     │ siblingsspouses │\n",
      "│     │ \u001b[90mInt64\u001b[39m    │ \u001b[90mInt64\u001b[39m  │ \u001b[90mString\u001b[39m │ \u001b[90mFloat64\u001b[39m │ \u001b[90mInt64\u001b[39m           │\n",
      "├─────┼──────────┼────────┼────────┼─────────┼─────────────────┤\n",
      "│ 1   │ 0        │ 3      │ male   │ 22.0    │ 1               │\n",
      "│ 2   │ 1        │ 1      │ female │ 38.0    │ 1               │\n",
      "│ 3   │ 1        │ 3      │ female │ 26.0    │ 0               │\n",
      "│ 4   │ 1        │ 1      │ female │ 35.0    │ 1               │\n",
      "│ 5   │ 0        │ 3      │ male   │ 35.0    │ 0               │\n",
      "\n",
      "│ Row │ parentschildren │ fare    │\n",
      "│     │ \u001b[90mInt64\u001b[39m           │ \u001b[90mFloat64\u001b[39m │\n",
      "├─────┼─────────────────┼─────────┤\n",
      "│ 1   │ 0               │ 7.25    │\n",
      "│ 2   │ 0               │ 71.2833 │\n",
      "│ 3   │ 0               │ 7.925   │\n",
      "│ 4   │ 0               │ 53.1    │\n",
      "│ 5   │ 0               │ 8.05    │"
     ]
    }
   ],
   "source": [
    "# Drop column: name\n",
    "select!(df, Not(:name))\n",
    "show(first(df, 5), allcols=true)"
   ]
  },
  {
   "cell_type": "code",
   "execution_count": 111,
   "metadata": {},
   "outputs": [
    {
     "data": {
      "text/plain": [
       "7-element Array{Symbol,1}:\n",
       " :survived\n",
       " :pclass\n",
       " :sex\n",
       " :age\n",
       " :siblingsspouses\n",
       " :parentschildren\n",
       " :fare"
      ]
     },
     "execution_count": 111,
     "metadata": {},
     "output_type": "execute_result"
    }
   ],
   "source": [
    "# Print column names\n",
    "names(df)"
   ]
  },
  {
   "cell_type": "code",
   "execution_count": 112,
   "metadata": {},
   "outputs": [
    {
     "name": "stdout",
     "output_type": "stream",
     "text": [
      "survived: Int64\n",
      "pclass: Int64\n",
      "sex: String\n",
      "age: Float64\n",
      "siblingsspouses: Int64\n",
      "parentschildren: Int64\n",
      "fare: Float64\n"
     ]
    }
   ],
   "source": [
    "# Print data type of each column\n",
    "for col in names(df)\n",
    "    coltype = eltype(df[!, col])\n",
    "    println(\"$col: $coltype\")\n",
    "end"
   ]
  },
  {
   "cell_type": "code",
   "execution_count": 113,
   "metadata": {},
   "outputs": [
    {
     "name": "stdout",
     "output_type": "stream",
     "text": [
      "5×7 DataFrame\n",
      "│ Row │ survived │ pclass │ sex    │ age     │ siblingsspouses │\n",
      "│     │ \u001b[90mString\u001b[39m   │ \u001b[90mInt64\u001b[39m  │ \u001b[90mString\u001b[39m │ \u001b[90mFloat64\u001b[39m │ \u001b[90mInt64\u001b[39m           │\n",
      "├─────┼──────────┼────────┼────────┼─────────┼─────────────────┤\n",
      "│ 1   │ 0        │ 3      │ male   │ 22.0    │ 1               │\n",
      "│ 2   │ 1        │ 1      │ female │ 38.0    │ 1               │\n",
      "│ 3   │ 1        │ 3      │ female │ 26.0    │ 0               │\n",
      "│ 4   │ 1        │ 1      │ female │ 35.0    │ 1               │\n",
      "│ 5   │ 0        │ 3      │ male   │ 35.0    │ 0               │\n",
      "\n",
      "│ Row │ parentschildren │ fare    │\n",
      "│     │ \u001b[90mInt64\u001b[39m           │ \u001b[90mFloat64\u001b[39m │\n",
      "├─────┼─────────────────┼─────────┤\n",
      "│ 1   │ 0               │ 7.25    │\n",
      "│ 2   │ 0               │ 71.2833 │\n",
      "│ 3   │ 0               │ 7.925   │\n",
      "│ 4   │ 0               │ 53.1    │\n",
      "│ 5   │ 0               │ 8.05    │"
     ]
    }
   ],
   "source": [
    "# Convert attribute: survived from Int64 to String\n",
    "df[!, :survived] = string.(df[!, :survived])\n",
    "show(first(df, 5), allcols=true)"
   ]
  },
  {
   "cell_type": "code",
   "execution_count": 114,
   "metadata": {},
   "outputs": [
    {
     "name": "stdout",
     "output_type": "stream",
     "text": [
      "2×2 DataFrame\n",
      "│ Row │ survived │ x1    │\n",
      "│     │ \u001b[90mString\u001b[39m   │ \u001b[90mInt64\u001b[39m │\n",
      "├─────┼──────────┼───────┤\n",
      "│ 1   │ 0        │ 545   │\n",
      "│ 2   │ 1        │ 342   │"
     ]
    }
   ],
   "source": [
    "# Check the distribution of the dataset\n",
    "print(by(df, :survived, nrow))\n",
    "\n",
    "# Comment: This dataset is not balanced."
   ]
  },
  {
   "cell_type": "code",
   "execution_count": 115,
   "metadata": {},
   "outputs": [
    {
     "name": "stdout",
     "output_type": "stream",
     "text": [
      "5×7 DataFrame\n",
      "│ Row │ survived │ pclass │ sex    │ age     │ siblingsspouses │\n",
      "│     │ \u001b[90mString\u001b[39m   │ \u001b[90mString\u001b[39m │ \u001b[90mString\u001b[39m │ \u001b[90mFloat64\u001b[39m │ \u001b[90mInt64\u001b[39m           │\n",
      "├─────┼──────────┼────────┼────────┼─────────┼─────────────────┤\n",
      "│ 1   │ 0        │ 3      │ male   │ 22.0    │ 1               │\n",
      "│ 2   │ 1        │ 1      │ female │ 38.0    │ 1               │\n",
      "│ 3   │ 1        │ 3      │ female │ 26.0    │ 0               │\n",
      "│ 4   │ 1        │ 1      │ female │ 35.0    │ 1               │\n",
      "│ 5   │ 0        │ 3      │ male   │ 35.0    │ 0               │\n",
      "\n",
      "│ Row │ parentschildren │ fare    │\n",
      "│     │ \u001b[90mInt64\u001b[39m           │ \u001b[90mFloat64\u001b[39m │\n",
      "├─────┼─────────────────┼─────────┤\n",
      "│ 1   │ 0               │ 7.25    │\n",
      "│ 2   │ 0               │ 71.2833 │\n",
      "│ 3   │ 0               │ 7.925   │\n",
      "│ 4   │ 0               │ 53.1    │\n",
      "│ 5   │ 0               │ 8.05    │"
     ]
    }
   ],
   "source": [
    "df[!, :pclass] = string.(df[!, :pclass])\n",
    "show(first(df, 5), allcols=true)"
   ]
  },
  {
   "cell_type": "code",
   "execution_count": 116,
   "metadata": {},
   "outputs": [],
   "source": [
    "# using Pkg\n",
    "\n",
    "# Pkg.add(\"MLLabelUtils\")"
   ]
  },
  {
   "cell_type": "code",
   "execution_count": 117,
   "metadata": {},
   "outputs": [],
   "source": [
    "# using MLLabelUtils"
   ]
  },
  {
   "cell_type": "code",
   "execution_count": 118,
   "metadata": {},
   "outputs": [
    {
     "data": {
      "text/plain": [
       "2-element Array{String,1}:\n",
       " \"male\"\n",
       " \"female\""
      ]
     },
     "execution_count": 118,
     "metadata": {},
     "output_type": "execute_result"
    }
   ],
   "source": [
    "sexlabel = label(df[!, :sex])"
   ]
  },
  {
   "cell_type": "code",
   "execution_count": 119,
   "metadata": {},
   "outputs": [
    {
     "name": "stdout",
     "output_type": "stream",
     "text": [
      "5×7 DataFrame. Omitted printing of 2 columns\n",
      "│ Row │ survived │ pclass │ sex   │ age     │ siblingsspouses │\n",
      "│     │ \u001b[90mString\u001b[39m   │ \u001b[90mString\u001b[39m │ \u001b[90mInt64\u001b[39m │ \u001b[90mFloat64\u001b[39m │ \u001b[90mInt64\u001b[39m           │\n",
      "├─────┼──────────┼────────┼───────┼─────────┼─────────────────┤\n",
      "│ 1   │ 0        │ 3      │ 1     │ 22.0    │ 1               │\n",
      "│ 2   │ 1        │ 1      │ 0     │ 38.0    │ 1               │\n",
      "│ 3   │ 1        │ 3      │ 0     │ 26.0    │ 0               │\n",
      "│ 4   │ 1        │ 1      │ 0     │ 35.0    │ 1               │\n",
      "│ 5   │ 0        │ 3      │ 1     │ 35.0    │ 0               │"
     ]
    }
   ],
   "source": [
    "# Label Encode sex\n",
    "# sexlabel = [\"male\", \"female\"]\n",
    "\n",
    "# 1 => \"male\"; 0 => \"female\"\n",
    "sexlabelenc = [1, 0]\n",
    "\n",
    "df[!, :sex] = convertlabel(\n",
    "    sexlabelenc, \n",
    "    df[!, :sex], \n",
    "    LabelEnc.NativeLabels(sexlabel))\n",
    "\n",
    "show(first(df, 5))"
   ]
  },
  {
   "cell_type": "code",
   "execution_count": 120,
   "metadata": {},
   "outputs": [
    {
     "data": {
      "text/plain": [
       "Dict{Int64,Array{Int64,1}} with 2 entries:\n",
       "  0 => [2, 3, 4, 9, 10, 11, 12, 15, 16, 19  …  863, 868, 871, 872, 876, 877, 87…\n",
       "  1 => [1, 5, 6, 7, 8, 13, 14, 17, 18, 21  …  870, 873, 874, 875, 878, 880, 881…"
      ]
     },
     "execution_count": 120,
     "metadata": {},
     "output_type": "execute_result"
    }
   ],
   "source": [
    "# DEMO\n",
    "\n",
    "labelmap(df[!, :sex])"
   ]
  },
  {
   "cell_type": "markdown",
   "metadata": {},
   "source": [
    "## Train and Validate KNN Classifier"
   ]
  },
  {
   "cell_type": "code",
   "execution_count": 302,
   "metadata": {},
   "outputs": [
    {
     "name": "stdout",
     "output_type": "stream",
     "text": [
      "5×7 DataFrame. Omitted printing of 1 columns\n",
      "│ Row │ pclass │ sex   │ age     │ siblingsspouses │ parentschildren │ fare    │\n",
      "│     │ \u001b[90mString\u001b[39m │ \u001b[90mInt64\u001b[39m │ \u001b[90mFloat64\u001b[39m │ \u001b[90mInt64\u001b[39m           │ \u001b[90mInt64\u001b[39m           │ \u001b[90mFloat64\u001b[39m │\n",
      "├─────┼────────┼───────┼─────────┼─────────────────┼─────────────────┼─────────┤\n",
      "│ 1   │ 3      │ 1     │ 20.0    │ 1               │ 0               │ 15.5    │\n",
      "│ 2   │ 3      │ 1     │ 34.0    │ 0               │ 0               │ 6.4958  │\n",
      "│ 3   │ 3      │ 1     │ 24.0    │ 2               │ 0               │ 23.25   │\n",
      "│ 4   │ 3      │ 0     │ 8.0     │ 3               │ 1               │ 21.075  │\n",
      "│ 5   │ 3      │ 1     │ 16.0    │ 1               │ 3               │ 34.375  │"
     ]
    }
   ],
   "source": [
    "# Set target and feature attributes\n",
    "target = df[!, :survived]\n",
    "features = select(df, Not(:survived))\n",
    "\n",
    "show(first(features, 5))"
   ]
  },
  {
   "cell_type": "code",
   "execution_count": 122,
   "metadata": {},
   "outputs": [],
   "source": [
    "# using Pkg\n",
    "\n",
    "# Pkg.add(\"MLDataUtils\")"
   ]
  },
  {
   "cell_type": "code",
   "execution_count": 123,
   "metadata": {},
   "outputs": [],
   "source": [
    "# using MLDataUtils"
   ]
  },
  {
   "cell_type": "code",
   "execution_count": 124,
   "metadata": {},
   "outputs": [
    {
     "name": "stdout",
     "output_type": "stream",
     "text": [
      "7×7 DataFrame\n",
      "│ Row │ survived │ pclass │ sex   │ age     │ siblingsspouses │\n",
      "│     │ \u001b[90mString\u001b[39m   │ \u001b[90mString\u001b[39m │ \u001b[90mInt64\u001b[39m │ \u001b[90mFloat64\u001b[39m │ \u001b[90mInt64\u001b[39m           │\n",
      "├─────┼──────────┼────────┼───────┼─────────┼─────────────────┤\n",
      "│ 1   │ 0        │ 3      │ 1     │ 22.0    │ 1               │\n",
      "│ 2   │ 1        │ 1      │ 0     │ 38.0    │ 1               │\n",
      "│ 3   │ 1        │ 3      │ 0     │ 26.0    │ 0               │\n",
      "│ 4   │ 1        │ 1      │ 0     │ 35.0    │ 1               │\n",
      "│ 5   │ 0        │ 3      │ 1     │ 35.0    │ 0               │\n",
      "│ 6   │ 0        │ 3      │ 1     │ 27.0    │ 0               │\n",
      "│ 7   │ 0        │ 1      │ 1     │ 54.0    │ 0               │\n",
      "\n",
      "│ Row │ parentschildren │ fare    │\n",
      "│     │ \u001b[90mInt64\u001b[39m           │ \u001b[90mFloat64\u001b[39m │\n",
      "├─────┼─────────────────┼─────────┤\n",
      "│ 1   │ 0               │ 7.25    │\n",
      "│ 2   │ 0               │ 71.2833 │\n",
      "│ 3   │ 0               │ 7.925   │\n",
      "│ 4   │ 0               │ 53.1    │\n",
      "│ 5   │ 0               │ 8.05    │\n",
      "│ 6   │ 0               │ 8.4583  │\n",
      "│ 7   │ 0               │ 51.8625 │"
     ]
    }
   ],
   "source": [
    "# splitobs(df)\n",
    "\n",
    "show(first(df, 7), allcols=true)"
   ]
  },
  {
   "cell_type": "code",
   "execution_count": 291,
   "metadata": {},
   "outputs": [
    {
     "data": {
      "text/plain": [
       "((710×7 SubDataFrame. Omitted printing of 1 columns\n",
       "│ Row │ pclass │ sex   │ age     │ siblingsspouses │ parentschildren │ fare    │\n",
       "│     │ \u001b[90mString\u001b[39m │ \u001b[90mInt64\u001b[39m │ \u001b[90mFloat64\u001b[39m │ \u001b[90mInt64\u001b[39m           │ \u001b[90mInt64\u001b[39m           │ \u001b[90mFloat64\u001b[39m │\n",
       "├─────┼────────┼───────┼─────────┼─────────────────┼─────────────────┼─────────┤\n",
       "│ 1   │ 2      │ 1     │ 50.0    │ 0               │ 0               │ 13.0    │\n",
       "│ 2   │ 3      │ 1     │ 49.0    │ 0               │ 0               │ 7.775   │\n",
       "│ 3   │ 3      │ 0     │ 14.0    │ 8               │ 2               │ 69.55   │\n",
       "│ 4   │ 1      │ 1     │ 34.0    │ 0               │ 0               │ 26.55   │\n",
       "│ 5   │ 3      │ 1     │ 74.0    │ 0               │ 0               │ 7.775   │\n",
       "│ 6   │ 2      │ 0     │ 30.0    │ 3               │ 0               │ 21.0    │\n",
       "│ 7   │ 1      │ 1     │ 47.0    │ 0               │ 0               │ 30.5    │\n",
       "│ 8   │ 2      │ 0     │ 24.0    │ 0               │ 2               │ 14.5    │\n",
       "│ 9   │ 3      │ 1     │ 18.0    │ 8               │ 2               │ 69.55   │\n",
       "│ 10  │ 3      │ 1     │ 29.0    │ 0               │ 0               │ 7.775   │\n",
       "⋮\n",
       "│ 700 │ 3      │ 0     │ 28.0    │ 1               │ 1               │ 14.4    │\n",
       "│ 701 │ 3      │ 0     │ 48.0    │ 1               │ 3               │ 34.375  │\n",
       "│ 702 │ 3      │ 1     │ 11.0    │ 5               │ 2               │ 46.9    │\n",
       "│ 703 │ 2      │ 0     │ 34.0    │ 1               │ 1               │ 32.5    │\n",
       "│ 704 │ 3      │ 1     │ 22.0    │ 0               │ 0               │ 8.05    │\n",
       "│ 705 │ 2      │ 1     │ 44.0    │ 1               │ 0               │ 26.0    │\n",
       "│ 706 │ 1      │ 1     │ 35.0    │ 0               │ 0               │ 26.2875 │\n",
       "│ 707 │ 1      │ 1     │ 4.0     │ 0               │ 2               │ 81.8583 │\n",
       "│ 708 │ 3      │ 0     │ 18.0    │ 1               │ 0               │ 14.4583 │\n",
       "│ 709 │ 3      │ 1     │ 19.0    │ 0               │ 0               │ 7.8958  │\n",
       "│ 710 │ 3      │ 0     │ 24.0    │ 1               │ 0               │ 15.85   │, [\"1\", \"0\", \"1\", \"1\", \"1\", \"1\", \"0\", \"1\", \"0\", \"0\"  …  \"0\", \"0\", \"1\", \"0\", \"1\", \"0\", \"0\", \"0\", \"1\", \"1\"]), (177×7 SubDataFrame. Omitted printing of 1 columns\n",
       "│ Row │ pclass │ sex   │ age     │ siblingsspouses │ parentschildren │ fare    │\n",
       "│     │ \u001b[90mString\u001b[39m │ \u001b[90mInt64\u001b[39m │ \u001b[90mFloat64\u001b[39m │ \u001b[90mInt64\u001b[39m           │ \u001b[90mInt64\u001b[39m           │ \u001b[90mFloat64\u001b[39m │\n",
       "├─────┼────────┼───────┼─────────┼─────────────────┼─────────────────┼─────────┤\n",
       "│ 1   │ 3      │ 1     │ 16.0    │ 0               │ 0               │ 8.05    │\n",
       "│ 2   │ 3      │ 0     │ 39.0    │ 0               │ 5               │ 29.125  │\n",
       "│ 3   │ 3      │ 0     │ 17.0    │ 0               │ 0               │ 14.4583 │\n",
       "│ 4   │ 2      │ 1     │ 34.0    │ 1               │ 0               │ 26.0    │\n",
       "│ 5   │ 3      │ 1     │ 24.0    │ 0               │ 0               │ 7.7958  │\n",
       "│ 6   │ 1      │ 1     │ 23.0    │ 0               │ 1               │ 63.3583 │\n",
       "│ 7   │ 1      │ 1     │ 45.0    │ 1               │ 0               │ 83.475  │\n",
       "│ 8   │ 3      │ 1     │ 20.0    │ 0               │ 0               │ 7.2292  │\n",
       "│ 9   │ 1      │ 0     │ 36.0    │ 0               │ 2               │ 71.0    │\n",
       "│ 10  │ 3      │ 1     │ 2.0     │ 3               │ 1               │ 21.075  │\n",
       "⋮\n",
       "│ 167 │ 1      │ 1     │ 24.0    │ 0               │ 0               │ 79.2    │\n",
       "│ 168 │ 3      │ 1     │ 18.0    │ 0               │ 0               │ 8.05    │\n",
       "│ 169 │ 3      │ 0     │ 2.0     │ 0               │ 1               │ 10.4625 │\n",
       "│ 170 │ 1      │ 0     │ 41.0    │ 1               │ 0               │ 51.8625 │\n",
       "│ 171 │ 3      │ 1     │ 37.0    │ 2               │ 0               │ 7.925   │\n",
       "│ 172 │ 3      │ 1     │ 30.0    │ 0               │ 0               │ 8.05    │\n",
       "│ 173 │ 3      │ 1     │ 23.0    │ 0               │ 0               │ 7.8958  │\n",
       "│ 174 │ 3      │ 1     │ 23.0    │ 0               │ 0               │ 9.225   │\n",
       "│ 175 │ 3      │ 1     │ 19.0    │ 0               │ 0               │ 7.775   │\n",
       "│ 176 │ 1      │ 1     │ 37.0    │ 0               │ 0               │ 26.55   │\n",
       "│ 177 │ 3      │ 1     │ 32.0    │ 0               │ 0               │ 56.4958 │, [\"0\", \"0\", \"1\", \"0\", \"0\", \"0\", \"0\", \"1\", \"0\", \"1\"  …  \"0\", \"0\", \"0\", \"0\", \"0\", \"0\", \"1\", \"0\", \"1\", \"0\"]))"
      ]
     },
     "execution_count": 291,
     "metadata": {},
     "output_type": "execute_result"
    }
   ],
   "source": [
    "#now split the data into training sets and validation sets\n",
    "Random.seed!(123)\n",
    "(features, target) = shuffleobs((features, target))\n",
    "(X_train1, y_train1), (X_test1, y_test1) = splitobs((features, target); at = 0.8)"
   ]
  },
  {
   "cell_type": "code",
   "execution_count": 21,
   "metadata": {},
   "outputs": [
    {
     "data": {
      "text/html": [
       "<p>DataFrameRow (7 columns)</p><table class=\"data-frame\"><thead><tr><th></th><th>survived</th><th>pclass</th><th>sex</th><th>age</th><th>siblingsspouses</th><th>parentschildren</th><th>fare</th></tr><tr><th></th><th>String</th><th>String</th><th>Int64</th><th>Float64</th><th>Int64</th><th>Int64</th><th>Float64</th></tr></thead><tbody><tr><th>30</th><td>0</td><td>3</td><td>1</td><td>23.0</td><td>0</td><td>0</td><td>7.8958</td></tr></tbody></table>"
      ],
      "text/latex": [
       "\\begin{tabular}{r|ccccccc}\n",
       "\t& survived & pclass & sex & age & siblingsspouses & parentschildren & fare\\\\\n",
       "\t\\hline\n",
       "\t& String & String & Int64 & Float64 & Int64 & Int64 & Float64\\\\\n",
       "\t\\hline\n",
       "\t30 & 0 & 3 & 1 & 23.0 & 0 & 0 & 7.8958 \\\\\n",
       "\\end{tabular}\n"
      ],
      "text/plain": [
       "DataFrameRow. Omitted printing of 2 columns\n",
       "│ Row │ survived │ pclass │ sex   │ age     │ siblingsspouses │\n",
       "│     │ \u001b[90mString\u001b[39m   │ \u001b[90mString\u001b[39m │ \u001b[90mInt64\u001b[39m │ \u001b[90mFloat64\u001b[39m │ \u001b[90mInt64\u001b[39m           │\n",
       "├─────┼──────────┼────────┼───────┼─────────┼─────────────────┤\n",
       "│ 30  │ 0        │ 3      │ 1     │ 23.0    │ 0               │"
      ]
     },
     "execution_count": 21,
     "metadata": {},
     "output_type": "execute_result"
    }
   ],
   "source": [
    "# getobs(df, 30)"
   ]
  },
  {
   "cell_type": "code",
   "execution_count": 82,
   "metadata": {},
   "outputs": [
    {
     "data": {
      "text/plain": [
       "4-element view(::Array{Int64,1}, [2, 1, 4, 3]) with eltype Int64:\n",
       " 2\n",
       " 1\n",
       " 4\n",
       " 3"
      ]
     },
     "execution_count": 82,
     "metadata": {},
     "output_type": "execute_result"
    }
   ],
   "source": [
    "Random.seed!(123)\n",
    "shuffleobs([1,2,3,4])"
   ]
  },
  {
   "cell_type": "code",
   "execution_count": 74,
   "metadata": {},
   "outputs": [
    {
     "data": {
      "text/plain": [
       "1×1 Array{Float64,2}:\n",
       " 0.7684476751965699"
      ]
     },
     "execution_count": 74,
     "metadata": {},
     "output_type": "execute_result"
    }
   ],
   "source": [
    "Random.seed!(123);\n",
    "rand(1,1)\n"
   ]
  },
  {
   "cell_type": "code",
   "execution_count": 98,
   "metadata": {},
   "outputs": [
    {
     "data": {
      "text/plain": [
       "10-element Array{Float64,1}:\n",
       " 0.0660317930734633\n",
       " 0.5638056701194081\n",
       " 0.9929050687382326\n",
       " 0.8466746056135119\n",
       " 0.5929375103137009\n",
       " 0.18322405440334322\n",
       " 0.4905019471229666\n",
       " 0.4373169330529676\n",
       " 0.7124644258276258\n",
       " 0.02953341631563422"
      ]
     },
     "execution_count": 98,
     "metadata": {},
     "output_type": "execute_result"
    }
   ],
   "source": []
  },
  {
   "cell_type": "code",
   "execution_count": 300,
   "metadata": {},
   "outputs": [
    {
     "data": {
      "text/plain": [
       "(707×7 DataFrame. Omitted printing of 2 columns\n",
       "│ Row │ survived │ pclass │ sex   │ age     │ siblingsspouses │\n",
       "│     │ \u001b[90mString\u001b[39m   │ \u001b[90mString\u001b[39m │ \u001b[90mInt64\u001b[39m │ \u001b[90mFloat64\u001b[39m │ \u001b[90mInt64\u001b[39m           │\n",
       "├─────┼──────────┼────────┼───────┼─────────┼─────────────────┤\n",
       "│ 1   │ 1        │ 3      │ 1     │ 24.0    │ 2               │\n",
       "│ 2   │ 0        │ 3      │ 0     │ 8.0     │ 3               │\n",
       "│ 3   │ 0        │ 3      │ 1     │ 16.0    │ 1               │\n",
       "│ 4   │ 1        │ 2      │ 1     │ 32.0    │ 1               │\n",
       "│ 5   │ 1        │ 1      │ 1     │ 27.0    │ 0               │\n",
       "│ 6   │ 1        │ 3      │ 1     │ 26.0    │ 0               │\n",
       "│ 7   │ 1        │ 2      │ 0     │ 33.0    │ 1               │\n",
       "│ 8   │ 0        │ 1      │ 1     │ 45.5    │ 0               │\n",
       "│ 9   │ 1        │ 3      │ 0     │ 22.0    │ 0               │\n",
       "│ 10  │ 0        │ 3      │ 0     │ 14.0    │ 0               │\n",
       "⋮\n",
       "│ 697 │ 0        │ 3      │ 0     │ 28.0    │ 0               │\n",
       "│ 698 │ 0        │ 3      │ 0     │ 18.0    │ 0               │\n",
       "│ 699 │ 0        │ 3      │ 1     │ 23.0    │ 0               │\n",
       "│ 700 │ 0        │ 3      │ 1     │ 33.0    │ 0               │\n",
       "│ 701 │ 1        │ 2      │ 1     │ 1.0     │ 0               │\n",
       "│ 702 │ 0        │ 1      │ 1     │ 46.0    │ 1               │\n",
       "│ 703 │ 1        │ 1      │ 1     │ 35.0    │ 0               │\n",
       "│ 704 │ 1        │ 2      │ 0     │ 25.0    │ 0               │\n",
       "│ 705 │ 0        │ 3      │ 0     │ 29.0    │ 0               │\n",
       "│ 706 │ 0        │ 3      │ 0     │ 32.0    │ 0               │\n",
       "│ 707 │ 1        │ 1      │ 0     │ 18.0    │ 1               │, 180×7 DataFrame. Omitted printing of 2 columns\n",
       "│ Row │ survived │ pclass │ sex   │ age     │ siblingsspouses │\n",
       "│     │ \u001b[90mString\u001b[39m   │ \u001b[90mString\u001b[39m │ \u001b[90mInt64\u001b[39m │ \u001b[90mFloat64\u001b[39m │ \u001b[90mInt64\u001b[39m           │\n",
       "├─────┼──────────┼────────┼───────┼─────────┼─────────────────┤\n",
       "│ 1   │ 0        │ 3      │ 1     │ 20.0    │ 1               │\n",
       "│ 2   │ 0        │ 3      │ 1     │ 34.0    │ 0               │\n",
       "│ 3   │ 0        │ 1      │ 1     │ 47.0    │ 0               │\n",
       "│ 4   │ 0        │ 3      │ 1     │ 30.0    │ 0               │\n",
       "│ 5   │ 0        │ 1      │ 1     │ 56.0    │ 0               │\n",
       "│ 6   │ 1        │ 3      │ 1     │ 29.0    │ 0               │\n",
       "│ 7   │ 0        │ 3      │ 1     │ 39.0    │ 0               │\n",
       "│ 8   │ 0        │ 3      │ 0     │ 12.0    │ 3               │\n",
       "│ 9   │ 0        │ 1      │ 1     │ 60.0    │ 0               │\n",
       "│ 10  │ 0        │ 3      │ 1     │ 26.0    │ 0               │\n",
       "⋮\n",
       "│ 170 │ 1        │ 1      │ 0     │ 21.0    │ 2               │\n",
       "│ 171 │ 1        │ 2      │ 0     │ 22.0    │ 1               │\n",
       "│ 172 │ 1        │ 1      │ 1     │ 40.0    │ 0               │\n",
       "│ 173 │ 0        │ 2      │ 1     │ 30.0    │ 1               │\n",
       "│ 174 │ 1        │ 1      │ 0     │ 18.0    │ 2               │\n",
       "│ 175 │ 1        │ 1      │ 1     │ 37.0    │ 0               │\n",
       "│ 176 │ 0        │ 2      │ 1     │ 23.0    │ 0               │\n",
       "│ 177 │ 0        │ 2      │ 1     │ 42.0    │ 1               │\n",
       "│ 178 │ 1        │ 1      │ 0     │ 42.0    │ 0               │\n",
       "│ 179 │ 0        │ 2      │ 1     │ 29.0    │ 0               │\n",
       "│ 180 │ 0        │ 2      │ 1     │ 36.0    │ 1               │)"
      ]
     },
     "execution_count": 300,
     "metadata": {},
     "output_type": "execute_result"
    }
   ],
   "source": [
    "function shuffledf(df, seed, testsize)\n",
    "    Random.seed!(seed)\n",
    "    dfrandom = DataFrame()\n",
    "    \n",
    "    if typeof(df) <: DataFrame\n",
    "        dfrandom = copy(df)        \n",
    "    elseif typeof(df) <: Array\n",
    "        dfrandom = DataFrame(value = df)\n",
    "    end\n",
    "    \n",
    "    dfrandom[!, :random] = Random.rand(size(df)[1])\n",
    "\n",
    "    dftrain = dfrandom[dfrandom[!, :random] .< testsize, :]\n",
    "    dftest = dfrandom[dfrandom[!, :random] .>= testsize, :]\n",
    "\n",
    "    dftrain = select!(dftrain, Not(:random))\n",
    "    dftest = select!(dftest, Not(:random))\n",
    "\n",
    "    return dftrain, dftest\n",
    "end\n",
    "\n",
    "(dftrain, dftest) = shuffledf(df, 0, 0.8)\n",
    "\n",
    "# dftrain"
   ]
  },
  {
   "cell_type": "code",
   "execution_count": 261,
   "metadata": {},
   "outputs": [
    {
     "data": {
      "text/plain": [
       "DataFrame"
      ]
     },
     "execution_count": 261,
     "metadata": {},
     "output_type": "execute_result"
    }
   ],
   "source": [
    "# dfrandom = DataFrame(value = target)\n",
    "\n",
    "# typeof(dfrandom)"
   ]
  },
  {
   "cell_type": "code",
   "execution_count": 304,
   "metadata": {},
   "outputs": [
    {
     "data": {
      "text/plain": [
       "(707×6 DataFrame\n",
       "│ Row │ pclass │ sex   │ age     │ siblingsspouses │ parentschildren │ fare    │\n",
       "│     │ \u001b[90mString\u001b[39m │ \u001b[90mInt64\u001b[39m │ \u001b[90mFloat64\u001b[39m │ \u001b[90mInt64\u001b[39m           │ \u001b[90mInt64\u001b[39m           │ \u001b[90mFloat64\u001b[39m │\n",
       "├─────┼────────┼───────┼─────────┼─────────────────┼─────────────────┼─────────┤\n",
       "│ 1   │ 3      │ 1     │ 24.0    │ 2               │ 0               │ 23.25   │\n",
       "│ 2   │ 3      │ 0     │ 8.0     │ 3               │ 1               │ 21.075  │\n",
       "│ 3   │ 3      │ 1     │ 16.0    │ 1               │ 3               │ 34.375  │\n",
       "│ 4   │ 2      │ 1     │ 32.0    │ 1               │ 0               │ 26.0    │\n",
       "│ 5   │ 1      │ 1     │ 27.0    │ 0               │ 0               │ 30.5    │\n",
       "│ 6   │ 3      │ 1     │ 26.0    │ 0               │ 0               │ 18.7875 │\n",
       "│ 7   │ 2      │ 0     │ 33.0    │ 1               │ 2               │ 27.75   │\n",
       "│ 8   │ 1      │ 1     │ 45.5    │ 0               │ 0               │ 28.5    │\n",
       "│ 9   │ 3      │ 0     │ 22.0    │ 0               │ 0               │ 7.75    │\n",
       "│ 10  │ 3      │ 0     │ 14.0    │ 0               │ 0               │ 7.8542  │\n",
       "⋮\n",
       "│ 697 │ 3      │ 0     │ 28.0    │ 0               │ 0               │ 7.8958  │\n",
       "│ 698 │ 3      │ 0     │ 18.0    │ 0               │ 0               │ 6.75    │\n",
       "│ 699 │ 3      │ 1     │ 23.0    │ 0               │ 0               │ 7.8958  │\n",
       "│ 700 │ 3      │ 1     │ 33.0    │ 0               │ 0               │ 9.5     │\n",
       "│ 701 │ 2      │ 1     │ 1.0     │ 0               │ 2               │ 37.0042 │\n",
       "│ 702 │ 1      │ 1     │ 46.0    │ 1               │ 0               │ 61.175  │\n",
       "│ 703 │ 1      │ 1     │ 35.0    │ 0               │ 0               │ 26.2875 │\n",
       "│ 704 │ 2      │ 0     │ 25.0    │ 0               │ 1               │ 26.0    │\n",
       "│ 705 │ 3      │ 0     │ 29.0    │ 0               │ 4               │ 21.075  │\n",
       "│ 706 │ 3      │ 0     │ 32.0    │ 0               │ 0               │ 8.05    │\n",
       "│ 707 │ 1      │ 0     │ 18.0    │ 1               │ 0               │ 227.525 │, [\"1\"; \"0\"; … ; \"0\"; \"1\"], 180×6 DataFrame\n",
       "│ Row │ pclass │ sex   │ age     │ siblingsspouses │ parentschildren │ fare    │\n",
       "│     │ \u001b[90mString\u001b[39m │ \u001b[90mInt64\u001b[39m │ \u001b[90mFloat64\u001b[39m │ \u001b[90mInt64\u001b[39m           │ \u001b[90mInt64\u001b[39m           │ \u001b[90mFloat64\u001b[39m │\n",
       "├─────┼────────┼───────┼─────────┼─────────────────┼─────────────────┼─────────┤\n",
       "│ 1   │ 3      │ 1     │ 20.0    │ 1               │ 0               │ 15.5    │\n",
       "│ 2   │ 3      │ 1     │ 34.0    │ 0               │ 0               │ 6.4958  │\n",
       "│ 3   │ 1      │ 1     │ 47.0    │ 0               │ 0               │ 25.5875 │\n",
       "│ 4   │ 3      │ 1     │ 30.0    │ 0               │ 0               │ 8.05    │\n",
       "│ 5   │ 1      │ 1     │ 56.0    │ 0               │ 0               │ 26.55   │\n",
       "│ 6   │ 3      │ 1     │ 29.0    │ 0               │ 0               │ 9.5     │\n",
       "│ 7   │ 3      │ 1     │ 39.0    │ 0               │ 0               │ 7.925   │\n",
       "│ 8   │ 3      │ 0     │ 12.0    │ 3               │ 1               │ 25.4667 │\n",
       "│ 9   │ 1      │ 1     │ 60.0    │ 0               │ 0               │ 25.925  │\n",
       "│ 10  │ 3      │ 1     │ 26.0    │ 0               │ 0               │ 7.8958  │\n",
       "⋮\n",
       "│ 170 │ 1      │ 0     │ 21.0    │ 2               │ 2               │ 262.375 │\n",
       "│ 171 │ 2      │ 0     │ 22.0    │ 1               │ 1               │ 29.0    │\n",
       "│ 172 │ 1      │ 1     │ 40.0    │ 0               │ 0               │ 31.0    │\n",
       "│ 173 │ 2      │ 1     │ 30.0    │ 1               │ 0               │ 24.0    │\n",
       "│ 174 │ 1      │ 0     │ 18.0    │ 2               │ 2               │ 262.375 │\n",
       "│ 175 │ 1      │ 1     │ 37.0    │ 0               │ 0               │ 26.55   │\n",
       "│ 176 │ 2      │ 1     │ 23.0    │ 0               │ 0               │ 13.0    │\n",
       "│ 177 │ 2      │ 1     │ 42.0    │ 1               │ 0               │ 27.0    │\n",
       "│ 178 │ 1      │ 0     │ 42.0    │ 0               │ 0               │ 110.883 │\n",
       "│ 179 │ 2      │ 1     │ 29.0    │ 0               │ 0               │ 10.5    │\n",
       "│ 180 │ 2      │ 1     │ 36.0    │ 1               │ 2               │ 27.75   │, [\"0\"; \"0\"; … ; \"0\"; \"0\"])"
      ]
     },
     "execution_count": 304,
     "metadata": {},
     "output_type": "execute_result"
    }
   ],
   "source": [
    "function splitfeaturestarget(features, target, seed, testsize)\n",
    "    (featurestrain, featurestest) = shuffledf(features, seed, testsize)\n",
    "    (targettrain, targettest) = shuffledf(target, seed, testsize)\n",
    "    \n",
    "    targettrain = Array(targettrain)\n",
    "    targettest = Array(targettest)\n",
    "    \n",
    "    return featurestrain, targettrain, featurestest, targettest\n",
    "end\n",
    "\n",
    "splitfeaturestarget(features, target, 0, 0.8)"
   ]
  },
  {
   "cell_type": "code",
   "execution_count": 290,
   "metadata": {
    "scrolled": false
   },
   "outputs": [],
   "source": [
    "# features, target"
   ]
  },
  {
   "cell_type": "code",
   "execution_count": 253,
   "metadata": {},
   "outputs": [
    {
     "data": {
      "text/plain": [
       "true"
      ]
     },
     "execution_count": 253,
     "metadata": {},
     "output_type": "execute_result"
    }
   ],
   "source": [
    "typeof(target) <: Array"
   ]
  },
  {
   "cell_type": "code",
   "execution_count": 305,
   "metadata": {},
   "outputs": [
    {
     "name": "stderr",
     "output_type": "stream",
     "text": [
      "\u001b[32m\u001b[1m   Updating\u001b[22m\u001b[39m registry at `C:\\Users\\Darren Lee\\.julia\\registries\\General`\n"
     ]
    },
    {
     "name": "stdout",
     "output_type": "stream",
     "text": [
      "\u001b[?25l"
     ]
    },
    {
     "name": "stderr",
     "output_type": "stream",
     "text": [
      "\u001b[32m\u001b[1m   Updating\u001b[22m\u001b[39m git-repo `https://github.com/JuliaRegistries/General.git`\n"
     ]
    },
    {
     "name": "stdout",
     "output_type": "stream",
     "text": [
      "\u001b[2K\u001b[?25h[1mFetching:\u001b[22m\u001b[39m [========================================>]  100.0 %"
     ]
    },
    {
     "name": "stderr",
     "output_type": "stream",
     "text": [
      "\u001b[32m\u001b[1m  Resolving\u001b[22m\u001b[39m package versions...\n",
      "\u001b[32m\u001b[1m  Installed\u001b[22m\u001b[39m ScikitLearnBase ─ v0.5.0\n",
      "\u001b[32m\u001b[1m  Installed\u001b[22m\u001b[39m ScikitLearn ───── v0.6.2\n",
      "\u001b[32m\u001b[1m   Updating\u001b[22m\u001b[39m `C:\\Users\\Darren Lee\\.julia\\environments\\v1.4\\Project.toml`\n",
      " \u001b[90m [3646fa90]\u001b[39m\u001b[92m + ScikitLearn v0.6.2\u001b[39m\n",
      "\u001b[32m\u001b[1m   Updating\u001b[22m\u001b[39m `C:\\Users\\Darren Lee\\.julia\\environments\\v1.4\\Manifest.toml`\n",
      " \u001b[90m [3646fa90]\u001b[39m\u001b[92m + ScikitLearn v0.6.2\u001b[39m\n",
      " \u001b[90m [6e75b9c4]\u001b[39m\u001b[92m + ScikitLearnBase v0.5.0\u001b[39m\n"
     ]
    }
   ],
   "source": [
    "using Pkg\n",
    "\n",
    "Pkg.add(\"ScikitLearn\")"
   ]
  },
  {
   "cell_type": "markdown",
   "metadata": {},
   "source": [
    "More on Julia scikitlearn\n",
    "\n",
    "https://github.com/cstjean/ScikitLearn.jl/blob/master/examples/Classifier_Comparison_Julia.ipynb"
   ]
  }
 ],
 "metadata": {
  "kernelspec": {
   "display_name": "Julia 1.4.2",
   "language": "julia",
   "name": "julia-1.4"
  },
  "language_info": {
   "file_extension": ".jl",
   "mimetype": "application/julia",
   "name": "julia",
   "version": "1.4.2"
  }
 },
 "nbformat": 4,
 "nbformat_minor": 2
}
