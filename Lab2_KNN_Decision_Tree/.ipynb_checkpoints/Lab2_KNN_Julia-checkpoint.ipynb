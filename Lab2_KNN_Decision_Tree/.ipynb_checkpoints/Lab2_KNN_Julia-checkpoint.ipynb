{
 "cells": [
  {
   "cell_type": "markdown",
   "metadata": {},
   "source": [
    "# CDS503 Lab 2: KNN (Julia)"
   ]
  },
  {
   "cell_type": "code",
   "execution_count": 1,
   "metadata": {},
   "outputs": [
    {
     "data": {
      "text/plain": [
       "PyObject <function accuracy_score at 0x00000000612843A8>"
      ]
     },
     "execution_count": 1,
     "metadata": {},
     "output_type": "execute_result"
    }
   ],
   "source": [
    "using DataFrames\n",
    "using CSV\n",
    "# using XLSX\n",
    "using Plots\n",
    "using Statistics\n",
    "using LinearAlgebra\n",
    "using StatsPlots\n",
    "\n",
    "using Random\n",
    "\n",
    "using MLLabelUtils  # label encoding\n",
    "using MLDataUtils   # splitobs, getobs\n",
    "\n",
    "using ScikitLearn\n",
    "using ScikitLearn: fit!, predict\n",
    "using ScikitLearn.CrossValidation: train_test_split\n",
    "\n",
    "using PyCall\n",
    "\n",
    "@sk_import neighbors: KNeighborsClassifier\n",
    "@sk_import metrics: accuracy_score\n",
    "# @sk_import datasets: (make_moons, make_circles, make_classification)"
   ]
  },
  {
   "cell_type": "code",
   "execution_count": 2,
   "metadata": {},
   "outputs": [
    {
     "name": "stdout",
     "output_type": "stream",
     "text": [
      "5×8 DataFrame\n",
      "│ Row │ Survived │ Pclass │ Name                                               │\n",
      "│     │ \u001b[90mInt64\u001b[39m    │ \u001b[90mInt64\u001b[39m  │ \u001b[90mString\u001b[39m                                             │\n",
      "├─────┼──────────┼────────┼────────────────────────────────────────────────────┤\n",
      "│ 1   │ 0        │ 3      │ Mr. Owen Harris Braund                             │\n",
      "│ 2   │ 1        │ 1      │ Mrs. John Bradley (Florence Briggs Thayer) Cumings │\n",
      "│ 3   │ 1        │ 3      │ Miss. Laina Heikkinen                              │\n",
      "│ 4   │ 1        │ 1      │ Mrs. Jacques Heath (Lily May Peel) Futrelle        │\n",
      "│ 5   │ 0        │ 3      │ Mr. William Henry Allen                            │\n",
      "\n",
      "│ Row │ Sex    │ Age     │ Siblings/Spouses Aboard │ Parents/Children Aboard │\n",
      "│     │ \u001b[90mString\u001b[39m │ \u001b[90mFloat64\u001b[39m │ \u001b[90mInt64\u001b[39m                   │ \u001b[90mInt64\u001b[39m                   │\n",
      "├─────┼────────┼─────────┼─────────────────────────┼─────────────────────────┤\n",
      "│ 1   │ male   │ 22.0    │ 1                       │ 0                       │\n",
      "│ 2   │ female │ 38.0    │ 1                       │ 0                       │\n",
      "│ 3   │ female │ 26.0    │ 0                       │ 0                       │\n",
      "│ 4   │ female │ 35.0    │ 1                       │ 0                       │\n",
      "│ 5   │ male   │ 35.0    │ 0                       │ 0                       │\n",
      "\n",
      "│ Row │ Fare    │\n",
      "│     │ \u001b[90mFloat64\u001b[39m │\n",
      "├─────┼─────────┤\n",
      "│ 1   │ 7.25    │\n",
      "│ 2   │ 71.2833 │\n",
      "│ 3   │ 7.925   │\n",
      "│ 4   │ 53.1    │\n",
      "│ 5   │ 8.05    │"
     ]
    }
   ],
   "source": [
    "df = CSV.read(\"..//data//titanic.csv\", copycols=true);\n",
    "show(first(df, 5), allcols=true)"
   ]
  },
  {
   "cell_type": "code",
   "execution_count": 3,
   "metadata": {},
   "outputs": [
    {
     "data": {
      "text/plain": [
       "(887, 8)"
      ]
     },
     "execution_count": 3,
     "metadata": {},
     "output_type": "execute_result"
    }
   ],
   "source": [
    "size(df)"
   ]
  },
  {
   "cell_type": "code",
   "execution_count": 4,
   "metadata": {},
   "outputs": [
    {
     "name": "stdout",
     "output_type": "stream",
     "text": [
      "5×8 DataFrame\n",
      "│ Row │ survived │ pclass │ name                                               │\n",
      "│     │ \u001b[90mInt64\u001b[39m    │ \u001b[90mInt64\u001b[39m  │ \u001b[90mString\u001b[39m                                             │\n",
      "├─────┼──────────┼────────┼────────────────────────────────────────────────────┤\n",
      "│ 1   │ 0        │ 3      │ Mr. Owen Harris Braund                             │\n",
      "│ 2   │ 1        │ 1      │ Mrs. John Bradley (Florence Briggs Thayer) Cumings │\n",
      "│ 3   │ 1        │ 3      │ Miss. Laina Heikkinen                              │\n",
      "│ 4   │ 1        │ 1      │ Mrs. Jacques Heath (Lily May Peel) Futrelle        │\n",
      "│ 5   │ 0        │ 3      │ Mr. William Henry Allen                            │\n",
      "\n",
      "│ Row │ sex    │ age     │ siblingsspouses │ parentschildren │ fare    │\n",
      "│     │ \u001b[90mString\u001b[39m │ \u001b[90mFloat64\u001b[39m │ \u001b[90mInt64\u001b[39m           │ \u001b[90mInt64\u001b[39m           │ \u001b[90mFloat64\u001b[39m │\n",
      "├─────┼────────┼─────────┼─────────────────┼─────────────────┼─────────┤\n",
      "│ 1   │ male   │ 22.0    │ 1               │ 0               │ 7.25    │\n",
      "│ 2   │ female │ 38.0    │ 1               │ 0               │ 71.2833 │\n",
      "│ 3   │ female │ 26.0    │ 0               │ 0               │ 7.925   │\n",
      "│ 4   │ female │ 35.0    │ 1               │ 0               │ 53.1    │\n",
      "│ 5   │ male   │ 35.0    │ 0               │ 0               │ 8.05    │"
     ]
    }
   ],
   "source": [
    "oldnames = names(df)\n",
    "newnames = [\n",
    "    :survived,\n",
    "    :pclass,\n",
    "    :name,\n",
    "    :sex,\n",
    "    :age,\n",
    "    :siblingsspouses,\n",
    "    :parentschildren,\n",
    "    :fare\n",
    "]\n",
    "\n",
    "rename!(df, [ oldnames[i] => newnames[i] for i in 1:length(newnames) ])\n",
    "\n",
    "show(first(df, 5), allcols=true)"
   ]
  },
  {
   "cell_type": "code",
   "execution_count": 5,
   "metadata": {},
   "outputs": [
    {
     "name": "stdout",
     "output_type": "stream",
     "text": [
      "5×7 DataFrame\n",
      "│ Row │ survived │ pclass │ sex    │ age     │ siblingsspouses │\n",
      "│     │ \u001b[90mInt64\u001b[39m    │ \u001b[90mInt64\u001b[39m  │ \u001b[90mString\u001b[39m │ \u001b[90mFloat64\u001b[39m │ \u001b[90mInt64\u001b[39m           │\n",
      "├─────┼──────────┼────────┼────────┼─────────┼─────────────────┤\n",
      "│ 1   │ 0        │ 3      │ male   │ 22.0    │ 1               │\n",
      "│ 2   │ 1        │ 1      │ female │ 38.0    │ 1               │\n",
      "│ 3   │ 1        │ 3      │ female │ 26.0    │ 0               │\n",
      "│ 4   │ 1        │ 1      │ female │ 35.0    │ 1               │\n",
      "│ 5   │ 0        │ 3      │ male   │ 35.0    │ 0               │\n",
      "\n",
      "│ Row │ parentschildren │ fare    │\n",
      "│     │ \u001b[90mInt64\u001b[39m           │ \u001b[90mFloat64\u001b[39m │\n",
      "├─────┼─────────────────┼─────────┤\n",
      "│ 1   │ 0               │ 7.25    │\n",
      "│ 2   │ 0               │ 71.2833 │\n",
      "│ 3   │ 0               │ 7.925   │\n",
      "│ 4   │ 0               │ 53.1    │\n",
      "│ 5   │ 0               │ 8.05    │"
     ]
    }
   ],
   "source": [
    "# Drop column: name\n",
    "select!(df, Not(:name))\n",
    "show(first(df, 5), allcols=true)"
   ]
  },
  {
   "cell_type": "code",
   "execution_count": 6,
   "metadata": {},
   "outputs": [
    {
     "data": {
      "text/plain": [
       "7-element Array{Symbol,1}:\n",
       " :survived\n",
       " :pclass\n",
       " :sex\n",
       " :age\n",
       " :siblingsspouses\n",
       " :parentschildren\n",
       " :fare"
      ]
     },
     "execution_count": 6,
     "metadata": {},
     "output_type": "execute_result"
    }
   ],
   "source": [
    "# Print column names\n",
    "names(df)"
   ]
  },
  {
   "cell_type": "code",
   "execution_count": 7,
   "metadata": {},
   "outputs": [
    {
     "name": "stdout",
     "output_type": "stream",
     "text": [
      "survived: Int64\n",
      "pclass: Int64\n",
      "sex: String\n",
      "age: Float64\n",
      "siblingsspouses: Int64\n",
      "parentschildren: Int64\n",
      "fare: Float64\n"
     ]
    }
   ],
   "source": [
    "# Print data type of each column\n",
    "for col in names(df)\n",
    "    coltype = eltype(df[!, col])\n",
    "    println(\"$col: $coltype\")\n",
    "end"
   ]
  },
  {
   "cell_type": "code",
   "execution_count": 8,
   "metadata": {},
   "outputs": [
    {
     "name": "stdout",
     "output_type": "stream",
     "text": [
      "5×7 DataFrame\n",
      "│ Row │ survived │ pclass │ sex    │ age     │ siblingsspouses │\n",
      "│     │ \u001b[90mString\u001b[39m   │ \u001b[90mInt64\u001b[39m  │ \u001b[90mString\u001b[39m │ \u001b[90mFloat64\u001b[39m │ \u001b[90mInt64\u001b[39m           │\n",
      "├─────┼──────────┼────────┼────────┼─────────┼─────────────────┤\n",
      "│ 1   │ 0        │ 3      │ male   │ 22.0    │ 1               │\n",
      "│ 2   │ 1        │ 1      │ female │ 38.0    │ 1               │\n",
      "│ 3   │ 1        │ 3      │ female │ 26.0    │ 0               │\n",
      "│ 4   │ 1        │ 1      │ female │ 35.0    │ 1               │\n",
      "│ 5   │ 0        │ 3      │ male   │ 35.0    │ 0               │\n",
      "\n",
      "│ Row │ parentschildren │ fare    │\n",
      "│     │ \u001b[90mInt64\u001b[39m           │ \u001b[90mFloat64\u001b[39m │\n",
      "├─────┼─────────────────┼─────────┤\n",
      "│ 1   │ 0               │ 7.25    │\n",
      "│ 2   │ 0               │ 71.2833 │\n",
      "│ 3   │ 0               │ 7.925   │\n",
      "│ 4   │ 0               │ 53.1    │\n",
      "│ 5   │ 0               │ 8.05    │"
     ]
    }
   ],
   "source": [
    "# Convert attribute: survived from Int64 to String\n",
    "df[!, :survived] = string.(df[!, :survived])\n",
    "show(first(df, 5), allcols=true)"
   ]
  },
  {
   "cell_type": "code",
   "execution_count": 9,
   "metadata": {},
   "outputs": [
    {
     "name": "stdout",
     "output_type": "stream",
     "text": [
      "2×2 DataFrame\n",
      "│ Row │ survived │ x1    │\n",
      "│     │ \u001b[90mString\u001b[39m   │ \u001b[90mInt64\u001b[39m │\n",
      "├─────┼──────────┼───────┤\n",
      "│ 1   │ 0        │ 545   │\n",
      "│ 2   │ 1        │ 342   │"
     ]
    }
   ],
   "source": [
    "# Check the distribution of the dataset\n",
    "print(by(df, :survived, nrow))\n",
    "\n",
    "# Comment: This dataset is not balanced."
   ]
  },
  {
   "cell_type": "code",
   "execution_count": 10,
   "metadata": {},
   "outputs": [],
   "source": [
    "# df[!, :pclass] = string.(df[!, :pclass])\n",
    "# show(first(df, 5), allcols=true)"
   ]
  },
  {
   "cell_type": "code",
   "execution_count": 11,
   "metadata": {},
   "outputs": [],
   "source": [
    "# using Pkg\n",
    "\n",
    "# Pkg.add(\"MLLabelUtils\")"
   ]
  },
  {
   "cell_type": "code",
   "execution_count": 12,
   "metadata": {},
   "outputs": [],
   "source": [
    "# using MLLabelUtils"
   ]
  },
  {
   "cell_type": "code",
   "execution_count": 13,
   "metadata": {},
   "outputs": [
    {
     "data": {
      "text/plain": [
       "2-element Array{String,1}:\n",
       " \"male\"\n",
       " \"female\""
      ]
     },
     "execution_count": 13,
     "metadata": {},
     "output_type": "execute_result"
    }
   ],
   "source": [
    "sexlabel = label(df[!, :sex])"
   ]
  },
  {
   "cell_type": "code",
   "execution_count": 14,
   "metadata": {},
   "outputs": [
    {
     "name": "stdout",
     "output_type": "stream",
     "text": [
      "5×7 DataFrame. Omitted printing of 2 columns\n",
      "│ Row │ survived │ pclass │ sex   │ age     │ siblingsspouses │\n",
      "│     │ \u001b[90mString\u001b[39m   │ \u001b[90mInt64\u001b[39m  │ \u001b[90mInt64\u001b[39m │ \u001b[90mFloat64\u001b[39m │ \u001b[90mInt64\u001b[39m           │\n",
      "├─────┼──────────┼────────┼───────┼─────────┼─────────────────┤\n",
      "│ 1   │ 0        │ 3      │ 1     │ 22.0    │ 1               │\n",
      "│ 2   │ 1        │ 1      │ 0     │ 38.0    │ 1               │\n",
      "│ 3   │ 1        │ 3      │ 0     │ 26.0    │ 0               │\n",
      "│ 4   │ 1        │ 1      │ 0     │ 35.0    │ 1               │\n",
      "│ 5   │ 0        │ 3      │ 1     │ 35.0    │ 0               │"
     ]
    }
   ],
   "source": [
    "# Label Encode sex\n",
    "# sexlabel = [\"male\", \"female\"]\n",
    "\n",
    "# 1 => \"male\"; 0 => \"female\"\n",
    "sexlabelenc = [1, 0]\n",
    "\n",
    "df[!, :sex] = convertlabel(\n",
    "    sexlabelenc, \n",
    "    df[!, :sex], \n",
    "    LabelEnc.NativeLabels(sexlabel))\n",
    "\n",
    "show(first(df, 5))"
   ]
  },
  {
   "cell_type": "code",
   "execution_count": 15,
   "metadata": {},
   "outputs": [
    {
     "data": {
      "text/plain": [
       "Dict{Int64,Array{Int64,1}} with 2 entries:\n",
       "  0 => [2, 3, 4, 9, 10, 11, 12, 15, 16, 19  …  863, 868, 871, 872, 876, 877, 87…\n",
       "  1 => [1, 5, 6, 7, 8, 13, 14, 17, 18, 21  …  870, 873, 874, 875, 878, 880, 881…"
      ]
     },
     "execution_count": 15,
     "metadata": {},
     "output_type": "execute_result"
    }
   ],
   "source": [
    "# DEMO\n",
    "\n",
    "labelmap(df[!, :sex])"
   ]
  },
  {
   "cell_type": "markdown",
   "metadata": {},
   "source": [
    "## Train and Validate KNN Classifier"
   ]
  },
  {
   "cell_type": "code",
   "execution_count": 16,
   "metadata": {},
   "outputs": [
    {
     "name": "stdout",
     "output_type": "stream",
     "text": [
      "5×6 DataFrame\n",
      "│ Row │ pclass │ sex   │ age     │ siblingsspouses │ parentschildren │ fare    │\n",
      "│     │ \u001b[90mInt64\u001b[39m  │ \u001b[90mInt64\u001b[39m │ \u001b[90mFloat64\u001b[39m │ \u001b[90mInt64\u001b[39m           │ \u001b[90mInt64\u001b[39m           │ \u001b[90mFloat64\u001b[39m │\n",
      "├─────┼────────┼───────┼─────────┼─────────────────┼─────────────────┼─────────┤\n",
      "│ 1   │ 3      │ 1     │ 22.0    │ 1               │ 0               │ 7.25    │\n",
      "│ 2   │ 1      │ 0     │ 38.0    │ 1               │ 0               │ 71.2833 │\n",
      "│ 3   │ 3      │ 0     │ 26.0    │ 0               │ 0               │ 7.925   │\n",
      "│ 4   │ 1      │ 0     │ 35.0    │ 1               │ 0               │ 53.1    │\n",
      "│ 5   │ 3      │ 1     │ 35.0    │ 0               │ 0               │ 8.05    │"
     ]
    }
   ],
   "source": [
    "# Set target and feature attributes\n",
    "target = df[!, :survived]\n",
    "features = select(df, Not(:survived))\n",
    "\n",
    "show(first(features, 5))"
   ]
  },
  {
   "cell_type": "code",
   "execution_count": 17,
   "metadata": {},
   "outputs": [],
   "source": [
    "# Random seet does not fix the shuffleobs, result always change\n",
    "# #now split the data into training sets and validation sets\n",
    "# Random.seed!(123)\n",
    "# (features, target) = shuffleobs((features, target))\n",
    "# (X_train1, y_train1), (X_test1, y_test1) = splitobs((features, target); at = 0.8)"
   ]
  },
  {
   "cell_type": "code",
   "execution_count": 18,
   "metadata": {},
   "outputs": [],
   "source": [
    "# # Helper function to split the dataset - EXPERIMENTAL\n",
    "# function shuffledf(df, seed, testsize)\n",
    "#     Random.seed!(seed)\n",
    "#     dfrandom = DataFrame()\n",
    "    \n",
    "#     if typeof(df) <: DataFrame\n",
    "#         dfrandom = copy(df)        \n",
    "#     elseif typeof(df) <: Array\n",
    "#         dfrandom = DataFrame(value = df)\n",
    "#     end\n",
    "    \n",
    "#     dfrandom[!, :random] = Random.rand(size(df)[1])\n",
    "\n",
    "#     dftrain = dfrandom[dfrandom[!, :random] .< testsize, :]\n",
    "#     dftest = dfrandom[dfrandom[!, :random] .>= testsize, :]\n",
    "\n",
    "#     dftrain = select!(dftrain, Not(:random))\n",
    "#     dftest = select!(dftest, Not(:random))\n",
    "\n",
    "#     return dftrain, dftest\n",
    "# end\n",
    "\n",
    "# # (dftrain, dftest) = shuffledf(df, 0, 0.8)\n",
    "\n",
    "# # dftrain\n",
    "\n",
    "# function splitfeaturestarget(features, target, seed, testsize)\n",
    "#     (featurestrain, featurestest) = shuffledf(features, seed, testsize)\n",
    "#     (targettrain, targettest) = shuffledf(target, seed, testsize)\n",
    "    \n",
    "#     targettrain = Array(targettrain)\n",
    "#     targettest = Array(targettest)\n",
    "    \n",
    "#     return featurestrain, targettrain, featurestest, targettest\n",
    "# end\n",
    "\n",
    "# (xtrain, ytrain, xtest, ytest) = splitfeaturestarget(features, target, 0, 0.8)"
   ]
  },
  {
   "cell_type": "code",
   "execution_count": 19,
   "metadata": {},
   "outputs": [],
   "source": [
    "# typeof(features)\n",
    "arrayfeatures = convert(Array, features);\n",
    "arraytarget = convert(Array, target);"
   ]
  },
  {
   "cell_type": "code",
   "execution_count": 20,
   "metadata": {},
   "outputs": [
    {
     "data": {
      "text/plain": [
       "887×6 Array{Float64,2}:\n",
       " 3.0  1.0  22.0  1.0  0.0   7.25\n",
       " 1.0  0.0  38.0  1.0  0.0  71.2833\n",
       " 3.0  0.0  26.0  0.0  0.0   7.925\n",
       " 1.0  0.0  35.0  1.0  0.0  53.1\n",
       " 3.0  1.0  35.0  0.0  0.0   8.05\n",
       " 3.0  1.0  27.0  0.0  0.0   8.4583\n",
       " 1.0  1.0  54.0  0.0  0.0  51.8625\n",
       " 3.0  1.0   2.0  3.0  1.0  21.075\n",
       " 3.0  0.0  27.0  0.0  2.0  11.1333\n",
       " 2.0  0.0  14.0  1.0  0.0  30.0708\n",
       " 3.0  0.0   4.0  1.0  1.0  16.7\n",
       " 1.0  0.0  58.0  0.0  0.0  26.55\n",
       " 3.0  1.0  20.0  0.0  0.0   8.05\n",
       " ⋮                          ⋮\n",
       " 1.0  0.0  56.0  0.0  1.0  83.1583\n",
       " 2.0  0.0  25.0  0.0  1.0  26.0\n",
       " 3.0  1.0  33.0  0.0  0.0   7.8958\n",
       " 3.0  0.0  22.0  0.0  0.0  10.5167\n",
       " 2.0  1.0  28.0  0.0  0.0  10.5\n",
       " 3.0  1.0  25.0  0.0  0.0   7.05\n",
       " 3.0  0.0  39.0  0.0  5.0  29.125\n",
       " 2.0  1.0  27.0  0.0  0.0  13.0\n",
       " 1.0  0.0  19.0  0.0  0.0  30.0\n",
       " 3.0  0.0   7.0  1.0  2.0  23.45\n",
       " 1.0  1.0  26.0  0.0  0.0  30.0\n",
       " 3.0  1.0  32.0  0.0  0.0   7.75"
      ]
     },
     "execution_count": 20,
     "metadata": {},
     "output_type": "execute_result"
    }
   ],
   "source": [
    "eltype(arrayfeatures)\n",
    "\n",
    "arrayfeatures"
   ]
  },
  {
   "cell_type": "code",
   "execution_count": 21,
   "metadata": {},
   "outputs": [
    {
     "name": "stdout",
     "output_type": "stream",
     "text": [
      "567\n",
      "142\n",
      "178\n"
     ]
    },
    {
     "data": {
      "text/plain": [
       "5-element Array{Float64,1}:\n",
       " 3.0\n",
       " 1.0\n",
       " 3.0\n",
       " 1.0\n",
       " 1.0"
      ]
     },
     "execution_count": 21,
     "metadata": {},
     "output_type": "execute_result"
    }
   ],
   "source": [
    "testsize = 0.2\n",
    "\n",
    "x, xtest, y, ytest = train_test_split(arrayfeatures, arraytarget, test_size=testsize, random_state=0);\n",
    "xtrain, xdev, ytrain, ydev = train_test_split(x, y, test_size=testsize, random_state=0);\n",
    "\n",
    "println(size(xtrain)[1])\n",
    "println(size(xdev)[1])\n",
    "println(size(xtest)[1])\n",
    "\n",
    "x[1:5]"
   ]
  },
  {
   "cell_type": "markdown",
   "metadata": {},
   "source": [
    "More on Julia scikitlearn\n",
    "\n",
    "https://github.com/cstjean/ScikitLearn.jl/blob/master/examples/Classifier_Comparison_Julia.ipynb"
   ]
  },
  {
   "cell_type": "code",
   "execution_count": 22,
   "metadata": {},
   "outputs": [
    {
     "data": {
      "text/plain": [
       "PyObject KNeighborsClassifier(n_neighbors=1)"
      ]
     },
     "execution_count": 22,
     "metadata": {},
     "output_type": "execute_result"
    }
   ],
   "source": [
    "knn = KNeighborsClassifier(1)\n",
    "fit!(knn, xtrain, ytrain)"
   ]
  },
  {
   "cell_type": "code",
   "execution_count": 23,
   "metadata": {},
   "outputs": [
    {
     "data": {
      "text/plain": [
       "142-element Array{Any,1}:\n",
       " \"0\"\n",
       " \"0\"\n",
       " \"0\"\n",
       " \"0\"\n",
       " \"1\"\n",
       " \"1\"\n",
       " \"0\"\n",
       " \"0\"\n",
       " \"1\"\n",
       " \"0\"\n",
       " \"0\"\n",
       " \"1\"\n",
       " \"0\"\n",
       " ⋮\n",
       " \"0\"\n",
       " \"0\"\n",
       " \"1\"\n",
       " \"1\"\n",
       " \"0\"\n",
       " \"1\"\n",
       " \"0\"\n",
       " \"0\"\n",
       " \"1\"\n",
       " \"0\"\n",
       " \"0\"\n",
       " \"1\""
      ]
     },
     "execution_count": 23,
     "metadata": {},
     "output_type": "execute_result"
    }
   ],
   "source": [
    "ypredict = predict(knn, xdev)"
   ]
  },
  {
   "cell_type": "code",
   "execution_count": 24,
   "metadata": {},
   "outputs": [
    {
     "name": "stdout",
     "output_type": "stream",
     "text": [
      "Accuracy: 0.7112676056338029\n"
     ]
    }
   ],
   "source": [
    "accuracyscore = accuracy_score(ydev, ypredict)\n",
    "\n",
    "println(\"Accuracy: $accuracyscore\")"
   ]
  },
  {
   "cell_type": "code",
   "execution_count": 25,
   "metadata": {},
   "outputs": [],
   "source": [
    "# X, y = make_classification(n_features=2, n_redundant=0, n_informative=2,\n",
    "#                            random_state=1, n_clusters_per_class=1)\n",
    "# # Random.seed!(42)\n",
    "# # X += 2 * rand(size(X)...)\n",
    "# # linearly_separable = (X, y)\n",
    "\n",
    "\n",
    "# # x, xtest, y, ytest = train_test_split(X, y, test_size=testsize);\n",
    "# # xtrain, xdev, ytrain, ydev = train_test_split(x, y, test_size=testsize);\n",
    "\n",
    "# # typeof(X)"
   ]
  },
  {
   "cell_type": "code",
   "execution_count": 26,
   "metadata": {},
   "outputs": [
    {
     "name": "stderr",
     "output_type": "stream",
     "text": [
      "┌ Info: Installing Julia nodeps kernelspec in C:\\Users\\Darren Lee\\AppData\\Roaming\\jupyter\\kernels\\julia-nodeps-1.4\n",
      "└ @ IJulia C:\\Users\\Darren Lee\\.julia\\packages\\IJulia\\yLI42\\deps\\kspec.jl:78\n"
     ]
    },
    {
     "data": {
      "text/plain": [
       "\"C:\\\\Users\\\\Darren Lee\\\\AppData\\\\Roaming\\\\jupyter\\\\kernels\\\\julia-nodeps-1.4\""
      ]
     },
     "execution_count": 26,
     "metadata": {},
     "output_type": "execute_result"
    }
   ],
   "source": [
    "using IJulia\n",
    "IJulia.installkernel(\"Julia nodeps\", \"--depwarn=no\")"
   ]
  },
  {
   "cell_type": "code",
   "execution_count": 27,
   "metadata": {},
   "outputs": [
    {
     "name": "stdout",
     "output_type": "stream",
     "text": [
      "Accuracy: 0.7112676056338029\n",
      "Accuracy: 0.6901408450704225\n",
      "Accuracy: 0.6971830985915493\n",
      "Accuracy: 0.7253521126760564\n"
     ]
    },
    {
     "data": {
      "text/plain": [
       "0.7253521126760564"
      ]
     },
     "execution_count": 27,
     "metadata": {},
     "output_type": "execute_result"
    }
   ],
   "source": [
    "# Helper function - Repeating the tuning process in for loop.\n",
    "function tuneknn(Xtrain, Ytrain, Xdev, Ydev, k)\n",
    "    knn = KNeighborsClassifier(k)\n",
    "    fit!(knn, Xtrain, Ytrain)\n",
    "    Ypredict = predict(knn, Xdev)\n",
    "    \n",
    "    accuracyscore = accuracy_score(Ydev, Ypredict)\n",
    "    println(\"Accuracy: $accuracyscore\")\n",
    "    \n",
    "    return accuracyscore\n",
    "end\n",
    "\n",
    "# Test function\n",
    "tuneknn(xtrain, ytrain, xdev, ydev, 1)\n",
    "tuneknn(xtrain, ytrain, xdev, ydev, 5)\n",
    "tuneknn(xtrain, ytrain, xdev, ydev, 10)\n",
    "tuneknn(xtrain, ytrain, xdev, ydev, 30)"
   ]
  },
  {
   "cell_type": "code",
   "execution_count": 28,
   "metadata": {},
   "outputs": [
    {
     "name": "stdout",
     "output_type": "stream",
     "text": [
      "K = 1 | Accuracy: 0.7112676056338029\n",
      "K = 2 | Accuracy: 0.7183098591549296\n",
      "K = 3 | Accuracy: 0.704225352112676\n",
      "K = 4 | Accuracy: 0.704225352112676\n",
      "K = 5 | Accuracy: 0.6901408450704225\n",
      "K = 6 | Accuracy: 0.704225352112676\n",
      "K = 7 | Accuracy: 0.7253521126760564\n",
      "K = 8 | Accuracy: 0.7394366197183099\n",
      "K = 9 | Accuracy: 0.7253521126760564\n",
      "K = 10 | Accuracy: 0.6971830985915493\n",
      "K = 11 | Accuracy: 0.7323943661971831\n",
      "K = 12 | Accuracy: 0.6901408450704225\n",
      "K = 13 | Accuracy: 0.6971830985915493\n",
      "K = 14 | Accuracy: 0.6901408450704225\n",
      "K = 15 | Accuracy: 0.6971830985915493\n",
      "K = 16 | Accuracy: 0.6549295774647887\n",
      "K = 17 | Accuracy: 0.6619718309859155\n",
      "K = 18 | Accuracy: 0.676056338028169\n",
      "K = 19 | Accuracy: 0.676056338028169\n",
      "K = 20 | Accuracy: 0.6830985915492958\n",
      "K = 21 | Accuracy: 0.6971830985915493\n",
      "K = 22 | Accuracy: 0.6901408450704225\n",
      "K = 23 | Accuracy: 0.6971830985915493\n",
      "K = 24 | Accuracy: 0.7112676056338029\n",
      "K = 25 | Accuracy: 0.7183098591549296\n",
      "K = 26 | Accuracy: 0.7253521126760564\n",
      "K = 27 | Accuracy: 0.7253521126760564\n",
      "K = 28 | Accuracy: 0.7253521126760564\n",
      "K = 29 | Accuracy: 0.7183098591549296\n",
      "K = 30 | Accuracy: 0.7253521126760564\n",
      "Optimal k is 8 with accuracy 0.7394366197183099.\n"
     ]
    }
   ],
   "source": [
    "# Tuning KNN classifier\n",
    "maxk = 30\n",
    "listk = Array{Int64}(1:maxk)\n",
    "listvalaccuracy = Array{Float64}(undef, maxk)\n",
    "\n",
    "maxvalaccuracy = -Inf\n",
    "optimalk = 0\n",
    "\n",
    "for k in listk\n",
    "    print(\"K = $k | \")\n",
    "    valaccuracy = tuneknn(xtrain, ytrain, xdev, ydev, k)\n",
    "    listvalaccuracy[k] = valaccuracy\n",
    "    \n",
    "    if valaccuracy > maxvalaccuracy\n",
    "        maxvalaccuracy = valaccuracy\n",
    "        optimalk = k\n",
    "    end\n",
    "end\n",
    "\n",
    "println(\"Optimal k is $optimalk with accuracy $maxvalaccuracy.\")"
   ]
  },
  {
   "cell_type": "code",
   "execution_count": 29,
   "metadata": {},
   "outputs": [
    {
     "data": {
      "image/svg+xml": [
       "<?xml version=\"1.0\" encoding=\"utf-8\"?>\n",
       "<svg xmlns=\"http://www.w3.org/2000/svg\" xmlns:xlink=\"http://www.w3.org/1999/xlink\" width=\"600\" height=\"400\" viewBox=\"0 0 2400 1600\">\n",
       "<defs>\n",
       "  <clipPath id=\"clip2300\">\n",
       "    <rect x=\"0\" y=\"0\" width=\"2400\" height=\"1600\"/>\n",
       "  </clipPath>\n",
       "</defs>\n",
       "<path clip-path=\"url(#clip2300)\" d=\"\n",
       "M0 1600 L2400 1600 L2400 0 L0 0  Z\n",
       "  \" fill=\"#ffffff\" fill-rule=\"evenodd\" fill-opacity=\"1\"/>\n",
       "<defs>\n",
       "  <clipPath id=\"clip2301\">\n",
       "    <rect x=\"480\" y=\"0\" width=\"1681\" height=\"1600\"/>\n",
       "  </clipPath>\n",
       "</defs>\n",
       "<path clip-path=\"url(#clip2300)\" d=\"\n",
       "M242.516 1425.62 L2352.76 1425.62 L2352.76 121.675 L242.516 121.675  Z\n",
       "  \" fill=\"#ffffff\" fill-rule=\"evenodd\" fill-opacity=\"1\"/>\n",
       "<defs>\n",
       "  <clipPath id=\"clip2302\">\n",
       "    <rect x=\"242\" y=\"121\" width=\"2111\" height=\"1305\"/>\n",
       "  </clipPath>\n",
       "</defs>\n",
       "<polyline clip-path=\"url(#clip2302)\" style=\"stroke:#000000; stroke-width:2; stroke-opacity:0.1; fill:none\" points=\"\n",
       "  576.832,1425.62 576.832,121.675 \n",
       "  \"/>\n",
       "<polyline clip-path=\"url(#clip2302)\" style=\"stroke:#000000; stroke-width:2; stroke-opacity:0.1; fill:none\" points=\"\n",
       "  920.072,1425.62 920.072,121.675 \n",
       "  \"/>\n",
       "<polyline clip-path=\"url(#clip2302)\" style=\"stroke:#000000; stroke-width:2; stroke-opacity:0.1; fill:none\" points=\"\n",
       "  1263.31,1425.62 1263.31,121.675 \n",
       "  \"/>\n",
       "<polyline clip-path=\"url(#clip2302)\" style=\"stroke:#000000; stroke-width:2; stroke-opacity:0.1; fill:none\" points=\"\n",
       "  1606.55,1425.62 1606.55,121.675 \n",
       "  \"/>\n",
       "<polyline clip-path=\"url(#clip2302)\" style=\"stroke:#000000; stroke-width:2; stroke-opacity:0.1; fill:none\" points=\"\n",
       "  1949.79,1425.62 1949.79,121.675 \n",
       "  \"/>\n",
       "<polyline clip-path=\"url(#clip2302)\" style=\"stroke:#000000; stroke-width:2; stroke-opacity:0.1; fill:none\" points=\"\n",
       "  2293.03,1425.62 2293.03,121.675 \n",
       "  \"/>\n",
       "<polyline clip-path=\"url(#clip2302)\" style=\"stroke:#000000; stroke-width:2; stroke-opacity:0.1; fill:none\" points=\"\n",
       "  242.516,1314.91 2352.76,1314.91 \n",
       "  \"/>\n",
       "<polyline clip-path=\"url(#clip2302)\" style=\"stroke:#000000; stroke-width:2; stroke-opacity:0.1; fill:none\" points=\"\n",
       "  242.516,1023.77 2352.76,1023.77 \n",
       "  \"/>\n",
       "<polyline clip-path=\"url(#clip2302)\" style=\"stroke:#000000; stroke-width:2; stroke-opacity:0.1; fill:none\" points=\"\n",
       "  242.516,732.642 2352.76,732.642 \n",
       "  \"/>\n",
       "<polyline clip-path=\"url(#clip2302)\" style=\"stroke:#000000; stroke-width:2; stroke-opacity:0.1; fill:none\" points=\"\n",
       "  242.516,441.51 2352.76,441.51 \n",
       "  \"/>\n",
       "<polyline clip-path=\"url(#clip2302)\" style=\"stroke:#000000; stroke-width:2; stroke-opacity:0.1; fill:none\" points=\"\n",
       "  242.516,150.378 2352.76,150.378 \n",
       "  \"/>\n",
       "<polyline clip-path=\"url(#clip2300)\" style=\"stroke:#000000; stroke-width:4; stroke-opacity:1; fill:none\" points=\"\n",
       "  242.516,1425.62 2352.76,1425.62 \n",
       "  \"/>\n",
       "<polyline clip-path=\"url(#clip2300)\" style=\"stroke:#000000; stroke-width:4; stroke-opacity:1; fill:none\" points=\"\n",
       "  242.516,1425.62 242.516,121.675 \n",
       "  \"/>\n",
       "<polyline clip-path=\"url(#clip2300)\" style=\"stroke:#000000; stroke-width:4; stroke-opacity:1; fill:none\" points=\"\n",
       "  576.832,1425.62 576.832,1409.97 \n",
       "  \"/>\n",
       "<polyline clip-path=\"url(#clip2300)\" style=\"stroke:#000000; stroke-width:4; stroke-opacity:1; fill:none\" points=\"\n",
       "  920.072,1425.62 920.072,1409.97 \n",
       "  \"/>\n",
       "<polyline clip-path=\"url(#clip2300)\" style=\"stroke:#000000; stroke-width:4; stroke-opacity:1; fill:none\" points=\"\n",
       "  1263.31,1425.62 1263.31,1409.97 \n",
       "  \"/>\n",
       "<polyline clip-path=\"url(#clip2300)\" style=\"stroke:#000000; stroke-width:4; stroke-opacity:1; fill:none\" points=\"\n",
       "  1606.55,1425.62 1606.55,1409.97 \n",
       "  \"/>\n",
       "<polyline clip-path=\"url(#clip2300)\" style=\"stroke:#000000; stroke-width:4; stroke-opacity:1; fill:none\" points=\"\n",
       "  1949.79,1425.62 1949.79,1409.97 \n",
       "  \"/>\n",
       "<polyline clip-path=\"url(#clip2300)\" style=\"stroke:#000000; stroke-width:4; stroke-opacity:1; fill:none\" points=\"\n",
       "  2293.03,1425.62 2293.03,1409.97 \n",
       "  \"/>\n",
       "<polyline clip-path=\"url(#clip2300)\" style=\"stroke:#000000; stroke-width:4; stroke-opacity:1; fill:none\" points=\"\n",
       "  242.516,1314.91 267.839,1314.91 \n",
       "  \"/>\n",
       "<polyline clip-path=\"url(#clip2300)\" style=\"stroke:#000000; stroke-width:4; stroke-opacity:1; fill:none\" points=\"\n",
       "  242.516,1023.77 267.839,1023.77 \n",
       "  \"/>\n",
       "<polyline clip-path=\"url(#clip2300)\" style=\"stroke:#000000; stroke-width:4; stroke-opacity:1; fill:none\" points=\"\n",
       "  242.516,732.642 267.839,732.642 \n",
       "  \"/>\n",
       "<polyline clip-path=\"url(#clip2300)\" style=\"stroke:#000000; stroke-width:4; stroke-opacity:1; fill:none\" points=\"\n",
       "  242.516,441.51 267.839,441.51 \n",
       "  \"/>\n",
       "<polyline clip-path=\"url(#clip2300)\" style=\"stroke:#000000; stroke-width:4; stroke-opacity:1; fill:none\" points=\"\n",
       "  242.516,150.378 267.839,150.378 \n",
       "  \"/>\n",
       "<g clip-path=\"url(#clip2300)\">\n",
       "<text style=\"fill:#000000; fill-opacity:1; font-family:Arial,Helvetica Neue,Helvetica,sans-serif; font-size:48px; text-anchor:middle;\" transform=\"rotate(0, 576.832, 1479.62)\" x=\"576.832\" y=\"1479.62\">5</text>\n",
       "</g>\n",
       "<g clip-path=\"url(#clip2300)\">\n",
       "<text style=\"fill:#000000; fill-opacity:1; font-family:Arial,Helvetica Neue,Helvetica,sans-serif; font-size:48px; text-anchor:middle;\" transform=\"rotate(0, 920.072, 1479.62)\" x=\"920.072\" y=\"1479.62\">10</text>\n",
       "</g>\n",
       "<g clip-path=\"url(#clip2300)\">\n",
       "<text style=\"fill:#000000; fill-opacity:1; font-family:Arial,Helvetica Neue,Helvetica,sans-serif; font-size:48px; text-anchor:middle;\" transform=\"rotate(0, 1263.31, 1479.62)\" x=\"1263.31\" y=\"1479.62\">15</text>\n",
       "</g>\n",
       "<g clip-path=\"url(#clip2300)\">\n",
       "<text style=\"fill:#000000; fill-opacity:1; font-family:Arial,Helvetica Neue,Helvetica,sans-serif; font-size:48px; text-anchor:middle;\" transform=\"rotate(0, 1606.55, 1479.62)\" x=\"1606.55\" y=\"1479.62\">20</text>\n",
       "</g>\n",
       "<g clip-path=\"url(#clip2300)\">\n",
       "<text style=\"fill:#000000; fill-opacity:1; font-family:Arial,Helvetica Neue,Helvetica,sans-serif; font-size:48px; text-anchor:middle;\" transform=\"rotate(0, 1949.79, 1479.62)\" x=\"1949.79\" y=\"1479.62\">25</text>\n",
       "</g>\n",
       "<g clip-path=\"url(#clip2300)\">\n",
       "<text style=\"fill:#000000; fill-opacity:1; font-family:Arial,Helvetica Neue,Helvetica,sans-serif; font-size:48px; text-anchor:middle;\" transform=\"rotate(0, 2293.03, 1479.62)\" x=\"2293.03\" y=\"1479.62\">30</text>\n",
       "</g>\n",
       "<g clip-path=\"url(#clip2300)\">\n",
       "<text style=\"fill:#000000; fill-opacity:1; font-family:Arial,Helvetica Neue,Helvetica,sans-serif; font-size:48px; text-anchor:end;\" transform=\"rotate(0, 218.516, 1332.41)\" x=\"218.516\" y=\"1332.41\">0.66</text>\n",
       "</g>\n",
       "<g clip-path=\"url(#clip2300)\">\n",
       "<text style=\"fill:#000000; fill-opacity:1; font-family:Arial,Helvetica Neue,Helvetica,sans-serif; font-size:48px; text-anchor:end;\" transform=\"rotate(0, 218.516, 1041.27)\" x=\"218.516\" y=\"1041.27\">0.68</text>\n",
       "</g>\n",
       "<g clip-path=\"url(#clip2300)\">\n",
       "<text style=\"fill:#000000; fill-opacity:1; font-family:Arial,Helvetica Neue,Helvetica,sans-serif; font-size:48px; text-anchor:end;\" transform=\"rotate(0, 218.516, 750.142)\" x=\"218.516\" y=\"750.142\">0.70</text>\n",
       "</g>\n",
       "<g clip-path=\"url(#clip2300)\">\n",
       "<text style=\"fill:#000000; fill-opacity:1; font-family:Arial,Helvetica Neue,Helvetica,sans-serif; font-size:48px; text-anchor:end;\" transform=\"rotate(0, 218.516, 459.01)\" x=\"218.516\" y=\"459.01\">0.72</text>\n",
       "</g>\n",
       "<g clip-path=\"url(#clip2300)\">\n",
       "<text style=\"fill:#000000; fill-opacity:1; font-family:Arial,Helvetica Neue,Helvetica,sans-serif; font-size:48px; text-anchor:end;\" transform=\"rotate(0, 218.516, 167.878)\" x=\"218.516\" y=\"167.878\">0.74</text>\n",
       "</g>\n",
       "<g clip-path=\"url(#clip2300)\">\n",
       "<text style=\"fill:#000000; fill-opacity:1; font-family:Arial,Helvetica Neue,Helvetica,sans-serif; font-size:84px; text-anchor:middle;\" transform=\"rotate(0, 1297.64, 73.2)\" x=\"1297.64\" y=\"73.2\">KNN performance using different values of K</text>\n",
       "</g>\n",
       "<g clip-path=\"url(#clip2300)\">\n",
       "<text style=\"fill:#000000; fill-opacity:1; font-family:Arial,Helvetica Neue,Helvetica,sans-serif; font-size:66px; text-anchor:middle;\" transform=\"rotate(0, 1297.64, 1559.48)\" x=\"1297.64\" y=\"1559.48\">Value of K</text>\n",
       "</g>\n",
       "<g clip-path=\"url(#clip2300)\">\n",
       "<text style=\"fill:#000000; fill-opacity:1; font-family:Arial,Helvetica Neue,Helvetica,sans-serif; font-size:66px; text-anchor:middle;\" transform=\"rotate(-90, 89.2861, 773.647)\" x=\"89.2861\" y=\"773.647\">Validation accuracy</text>\n",
       "</g>\n",
       "<circle clip-path=\"url(#clip2302)\" cx=\"302.24\" cy=\"568.624\" r=\"14\" fill=\"#009af9\" fill-rule=\"evenodd\" fill-opacity=\"1\" stroke=\"#000000\" stroke-opacity=\"1\" stroke-width=\"3.2\"/>\n",
       "<circle clip-path=\"url(#clip2302)\" cx=\"370.888\" cy=\"466.113\" r=\"14\" fill=\"#009af9\" fill-rule=\"evenodd\" fill-opacity=\"1\" stroke=\"#000000\" stroke-opacity=\"1\" stroke-width=\"3.2\"/>\n",
       "<circle clip-path=\"url(#clip2302)\" cx=\"439.536\" cy=\"671.136\" r=\"14\" fill=\"#009af9\" fill-rule=\"evenodd\" fill-opacity=\"1\" stroke=\"#000000\" stroke-opacity=\"1\" stroke-width=\"3.2\"/>\n",
       "<circle clip-path=\"url(#clip2302)\" cx=\"508.184\" cy=\"671.136\" r=\"14\" fill=\"#009af9\" fill-rule=\"evenodd\" fill-opacity=\"1\" stroke=\"#000000\" stroke-opacity=\"1\" stroke-width=\"3.2\"/>\n",
       "<circle clip-path=\"url(#clip2302)\" cx=\"576.832\" cy=\"876.158\" r=\"14\" fill=\"#009af9\" fill-rule=\"evenodd\" fill-opacity=\"1\" stroke=\"#000000\" stroke-opacity=\"1\" stroke-width=\"3.2\"/>\n",
       "<circle clip-path=\"url(#clip2302)\" cx=\"645.48\" cy=\"671.136\" r=\"14\" fill=\"#009af9\" fill-rule=\"evenodd\" fill-opacity=\"1\" stroke=\"#000000\" stroke-opacity=\"1\" stroke-width=\"3.2\"/>\n",
       "<circle clip-path=\"url(#clip2302)\" cx=\"714.128\" cy=\"363.602\" r=\"14\" fill=\"#009af9\" fill-rule=\"evenodd\" fill-opacity=\"1\" stroke=\"#000000\" stroke-opacity=\"1\" stroke-width=\"3.2\"/>\n",
       "<circle clip-path=\"url(#clip2302)\" cx=\"782.776\" cy=\"158.579\" r=\"14\" fill=\"#009af9\" fill-rule=\"evenodd\" fill-opacity=\"1\" stroke=\"#000000\" stroke-opacity=\"1\" stroke-width=\"3.2\"/>\n",
       "<circle clip-path=\"url(#clip2302)\" cx=\"851.424\" cy=\"363.602\" r=\"14\" fill=\"#009af9\" fill-rule=\"evenodd\" fill-opacity=\"1\" stroke=\"#000000\" stroke-opacity=\"1\" stroke-width=\"3.2\"/>\n",
       "<circle clip-path=\"url(#clip2302)\" cx=\"920.072\" cy=\"773.647\" r=\"14\" fill=\"#009af9\" fill-rule=\"evenodd\" fill-opacity=\"1\" stroke=\"#000000\" stroke-opacity=\"1\" stroke-width=\"3.2\"/>\n",
       "<circle clip-path=\"url(#clip2302)\" cx=\"988.72\" cy=\"261.09\" r=\"14\" fill=\"#009af9\" fill-rule=\"evenodd\" fill-opacity=\"1\" stroke=\"#000000\" stroke-opacity=\"1\" stroke-width=\"3.2\"/>\n",
       "<circle clip-path=\"url(#clip2302)\" cx=\"1057.37\" cy=\"876.158\" r=\"14\" fill=\"#009af9\" fill-rule=\"evenodd\" fill-opacity=\"1\" stroke=\"#000000\" stroke-opacity=\"1\" stroke-width=\"3.2\"/>\n",
       "<circle clip-path=\"url(#clip2302)\" cx=\"1126.02\" cy=\"773.647\" r=\"14\" fill=\"#009af9\" fill-rule=\"evenodd\" fill-opacity=\"1\" stroke=\"#000000\" stroke-opacity=\"1\" stroke-width=\"3.2\"/>\n",
       "<circle clip-path=\"url(#clip2302)\" cx=\"1194.66\" cy=\"876.158\" r=\"14\" fill=\"#009af9\" fill-rule=\"evenodd\" fill-opacity=\"1\" stroke=\"#000000\" stroke-opacity=\"1\" stroke-width=\"3.2\"/>\n",
       "<circle clip-path=\"url(#clip2302)\" cx=\"1263.31\" cy=\"773.647\" r=\"14\" fill=\"#009af9\" fill-rule=\"evenodd\" fill-opacity=\"1\" stroke=\"#000000\" stroke-opacity=\"1\" stroke-width=\"3.2\"/>\n",
       "<circle clip-path=\"url(#clip2302)\" cx=\"1331.96\" cy=\"1388.71\" r=\"14\" fill=\"#009af9\" fill-rule=\"evenodd\" fill-opacity=\"1\" stroke=\"#000000\" stroke-opacity=\"1\" stroke-width=\"3.2\"/>\n",
       "<circle clip-path=\"url(#clip2302)\" cx=\"1400.61\" cy=\"1286.2\" r=\"14\" fill=\"#009af9\" fill-rule=\"evenodd\" fill-opacity=\"1\" stroke=\"#000000\" stroke-opacity=\"1\" stroke-width=\"3.2\"/>\n",
       "<circle clip-path=\"url(#clip2302)\" cx=\"1469.26\" cy=\"1081.18\" r=\"14\" fill=\"#009af9\" fill-rule=\"evenodd\" fill-opacity=\"1\" stroke=\"#000000\" stroke-opacity=\"1\" stroke-width=\"3.2\"/>\n",
       "<circle clip-path=\"url(#clip2302)\" cx=\"1537.9\" cy=\"1081.18\" r=\"14\" fill=\"#009af9\" fill-rule=\"evenodd\" fill-opacity=\"1\" stroke=\"#000000\" stroke-opacity=\"1\" stroke-width=\"3.2\"/>\n",
       "<circle clip-path=\"url(#clip2302)\" cx=\"1606.55\" cy=\"978.669\" r=\"14\" fill=\"#009af9\" fill-rule=\"evenodd\" fill-opacity=\"1\" stroke=\"#000000\" stroke-opacity=\"1\" stroke-width=\"3.2\"/>\n",
       "<circle clip-path=\"url(#clip2302)\" cx=\"1675.2\" cy=\"773.647\" r=\"14\" fill=\"#009af9\" fill-rule=\"evenodd\" fill-opacity=\"1\" stroke=\"#000000\" stroke-opacity=\"1\" stroke-width=\"3.2\"/>\n",
       "<circle clip-path=\"url(#clip2302)\" cx=\"1743.85\" cy=\"876.158\" r=\"14\" fill=\"#009af9\" fill-rule=\"evenodd\" fill-opacity=\"1\" stroke=\"#000000\" stroke-opacity=\"1\" stroke-width=\"3.2\"/>\n",
       "<circle clip-path=\"url(#clip2302)\" cx=\"1812.5\" cy=\"773.647\" r=\"14\" fill=\"#009af9\" fill-rule=\"evenodd\" fill-opacity=\"1\" stroke=\"#000000\" stroke-opacity=\"1\" stroke-width=\"3.2\"/>\n",
       "<circle clip-path=\"url(#clip2302)\" cx=\"1881.14\" cy=\"568.624\" r=\"14\" fill=\"#009af9\" fill-rule=\"evenodd\" fill-opacity=\"1\" stroke=\"#000000\" stroke-opacity=\"1\" stroke-width=\"3.2\"/>\n",
       "<circle clip-path=\"url(#clip2302)\" cx=\"1949.79\" cy=\"466.113\" r=\"14\" fill=\"#009af9\" fill-rule=\"evenodd\" fill-opacity=\"1\" stroke=\"#000000\" stroke-opacity=\"1\" stroke-width=\"3.2\"/>\n",
       "<circle clip-path=\"url(#clip2302)\" cx=\"2018.44\" cy=\"363.602\" r=\"14\" fill=\"#009af9\" fill-rule=\"evenodd\" fill-opacity=\"1\" stroke=\"#000000\" stroke-opacity=\"1\" stroke-width=\"3.2\"/>\n",
       "<circle clip-path=\"url(#clip2302)\" cx=\"2087.09\" cy=\"363.602\" r=\"14\" fill=\"#009af9\" fill-rule=\"evenodd\" fill-opacity=\"1\" stroke=\"#000000\" stroke-opacity=\"1\" stroke-width=\"3.2\"/>\n",
       "<circle clip-path=\"url(#clip2302)\" cx=\"2155.74\" cy=\"363.602\" r=\"14\" fill=\"#009af9\" fill-rule=\"evenodd\" fill-opacity=\"1\" stroke=\"#000000\" stroke-opacity=\"1\" stroke-width=\"3.2\"/>\n",
       "<circle clip-path=\"url(#clip2302)\" cx=\"2224.38\" cy=\"466.113\" r=\"14\" fill=\"#009af9\" fill-rule=\"evenodd\" fill-opacity=\"1\" stroke=\"#000000\" stroke-opacity=\"1\" stroke-width=\"3.2\"/>\n",
       "<circle clip-path=\"url(#clip2302)\" cx=\"2293.03\" cy=\"363.602\" r=\"14\" fill=\"#009af9\" fill-rule=\"evenodd\" fill-opacity=\"1\" stroke=\"#000000\" stroke-opacity=\"1\" stroke-width=\"3.2\"/>\n",
       "</svg>\n"
      ]
     },
     "execution_count": 29,
     "metadata": {},
     "output_type": "execute_result"
    }
   ],
   "source": [
    "scatter(listk, listvalaccuracy,\n",
    "    title=\"KNN performance using different values of K\",\n",
    "    xlabel=\"Value of K\",\n",
    "    ylabel=\"Validation accuracy\",\n",
    "    label=\"\"\n",
    ")"
   ]
  },
  {
   "cell_type": "code",
   "execution_count": null,
   "metadata": {},
   "outputs": [],
   "source": []
  }
 ],
 "metadata": {
  "kernelspec": {
   "display_name": "Julia 1.4.2",
   "language": "julia",
   "name": "julia-1.4"
  },
  "language_info": {
   "file_extension": ".jl",
   "mimetype": "application/julia",
   "name": "julia",
   "version": "1.4.2"
  }
 },
 "nbformat": 4,
 "nbformat_minor": 2
}
