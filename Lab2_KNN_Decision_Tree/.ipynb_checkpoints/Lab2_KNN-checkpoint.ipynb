{
 "cells": [
  {
   "cell_type": "markdown",
   "metadata": {},
   "source": [
    "# CDS503 Lab 2: KNN\n",
    "\n",
    "Not quite follow the handout. I have my own way of doing things. =D\n",
    "\n",
    "Here are list important lines to import required libraries (KNN):\n",
    "\n",
    "**Data Preprocessing**\n",
    "- `from sklearn import preprocessing` - we use the `LabelEncoder()` and `StandardScalar()` functions\n",
    "\n",
    "**Model Training**\n",
    "- `from sklearn.model_selection import train_test_split` - we use the `train_test_split()` function\n",
    "- `from sklearn.neighbors import KNeighborsClassifier` - this is the **KNN classifier**!\n",
    "\n",
    "**Model Evaluation**\n",
    "- `from sklearn import metrics` - we call `metrics.accuracy_score` function from this library.\n",
    "\n",
    "_My helper functions are annotated with_ `# @ym_helper_classification` _after the line._"
   ]
  },
  {
   "cell_type": "markdown",
   "metadata": {},
   "source": [
    "## Prepare Data\n",
    "\n",
    "This is the pre-training phase involving data cleaning & data transformation."
   ]
  },
  {
   "cell_type": "code",
   "execution_count": 1,
   "metadata": {},
   "outputs": [],
   "source": [
    "# Import library\n",
    "import pandas as pd\n",
    "\n",
    "# This line specifies the path of \"ym_helper_classification.py\" file\n",
    "# which contains my helper functions =D\n",
    "%run \"/Users/Darren Lee/ym_helper_classification\""
   ]
  },
  {
   "cell_type": "code",
   "execution_count": 2,
   "metadata": {},
   "outputs": [],
   "source": [
    "# Read data\n",
    "df = pd.read_csv(\"titanic.csv\")"
   ]
  },
  {
   "cell_type": "code",
   "execution_count": 3,
   "metadata": {},
   "outputs": [
    {
     "data": {
      "text/plain": [
       "(887, 8)"
      ]
     },
     "execution_count": 3,
     "metadata": {},
     "output_type": "execute_result"
    }
   ],
   "source": [
    "# Inspect the df shape\n",
    "df.shape"
   ]
  },
  {
   "cell_type": "code",
   "execution_count": 4,
   "metadata": {},
   "outputs": [
    {
     "data": {
      "text/html": [
       "<div>\n",
       "<style scoped>\n",
       "    .dataframe tbody tr th:only-of-type {\n",
       "        vertical-align: middle;\n",
       "    }\n",
       "\n",
       "    .dataframe tbody tr th {\n",
       "        vertical-align: top;\n",
       "    }\n",
       "\n",
       "    .dataframe thead th {\n",
       "        text-align: right;\n",
       "    }\n",
       "</style>\n",
       "<table border=\"1\" class=\"dataframe\">\n",
       "  <thead>\n",
       "    <tr style=\"text-align: right;\">\n",
       "      <th></th>\n",
       "      <th>Survived</th>\n",
       "      <th>Pclass</th>\n",
       "      <th>Name</th>\n",
       "      <th>Sex</th>\n",
       "      <th>Age</th>\n",
       "      <th>Siblings/Spouses Aboard</th>\n",
       "      <th>Parents/Children Aboard</th>\n",
       "      <th>Fare</th>\n",
       "    </tr>\n",
       "  </thead>\n",
       "  <tbody>\n",
       "    <tr>\n",
       "      <td>0</td>\n",
       "      <td>0</td>\n",
       "      <td>3</td>\n",
       "      <td>Mr. Owen Harris Braund</td>\n",
       "      <td>male</td>\n",
       "      <td>22.0</td>\n",
       "      <td>1</td>\n",
       "      <td>0</td>\n",
       "      <td>7.2500</td>\n",
       "    </tr>\n",
       "    <tr>\n",
       "      <td>1</td>\n",
       "      <td>1</td>\n",
       "      <td>1</td>\n",
       "      <td>Mrs. John Bradley (Florence Briggs Thayer) Cum...</td>\n",
       "      <td>female</td>\n",
       "      <td>38.0</td>\n",
       "      <td>1</td>\n",
       "      <td>0</td>\n",
       "      <td>71.2833</td>\n",
       "    </tr>\n",
       "    <tr>\n",
       "      <td>2</td>\n",
       "      <td>1</td>\n",
       "      <td>3</td>\n",
       "      <td>Miss. Laina Heikkinen</td>\n",
       "      <td>female</td>\n",
       "      <td>26.0</td>\n",
       "      <td>0</td>\n",
       "      <td>0</td>\n",
       "      <td>7.9250</td>\n",
       "    </tr>\n",
       "    <tr>\n",
       "      <td>3</td>\n",
       "      <td>1</td>\n",
       "      <td>1</td>\n",
       "      <td>Mrs. Jacques Heath (Lily May Peel) Futrelle</td>\n",
       "      <td>female</td>\n",
       "      <td>35.0</td>\n",
       "      <td>1</td>\n",
       "      <td>0</td>\n",
       "      <td>53.1000</td>\n",
       "    </tr>\n",
       "    <tr>\n",
       "      <td>4</td>\n",
       "      <td>0</td>\n",
       "      <td>3</td>\n",
       "      <td>Mr. William Henry Allen</td>\n",
       "      <td>male</td>\n",
       "      <td>35.0</td>\n",
       "      <td>0</td>\n",
       "      <td>0</td>\n",
       "      <td>8.0500</td>\n",
       "    </tr>\n",
       "  </tbody>\n",
       "</table>\n",
       "</div>"
      ],
      "text/plain": [
       "   Survived  Pclass                                               Name  \\\n",
       "0         0       3                             Mr. Owen Harris Braund   \n",
       "1         1       1  Mrs. John Bradley (Florence Briggs Thayer) Cum...   \n",
       "2         1       3                              Miss. Laina Heikkinen   \n",
       "3         1       1        Mrs. Jacques Heath (Lily May Peel) Futrelle   \n",
       "4         0       3                            Mr. William Henry Allen   \n",
       "\n",
       "      Sex   Age  Siblings/Spouses Aboard  Parents/Children Aboard     Fare  \n",
       "0    male  22.0                        1                        0   7.2500  \n",
       "1  female  38.0                        1                        0  71.2833  \n",
       "2  female  26.0                        0                        0   7.9250  \n",
       "3  female  35.0                        1                        0  53.1000  \n",
       "4    male  35.0                        0                        0   8.0500  "
      ]
     },
     "execution_count": 4,
     "metadata": {},
     "output_type": "execute_result"
    }
   ],
   "source": [
    "# Define the first few rows of data\n",
    "df.head()"
   ]
  },
  {
   "cell_type": "code",
   "execution_count": 5,
   "metadata": {},
   "outputs": [
    {
     "data": {
      "text/plain": [
       "Index(['survived', 'pclass', 'name', 'sex', 'age', 'sibspouse', 'parchild',\n",
       "       'fare'],\n",
       "      dtype='object')"
      ]
     },
     "execution_count": 5,
     "metadata": {},
     "output_type": "execute_result"
    }
   ],
   "source": [
    "# Rename the columns - shorten & replace capital letter - small letter\n",
    "df.columns = ['survived', 'pclass', 'name', 'sex', 'age', 'sibspouse', 'parchild', 'fare']\n",
    "df.columns"
   ]
  },
  {
   "cell_type": "code",
   "execution_count": 6,
   "metadata": {},
   "outputs": [
    {
     "data": {
      "text/html": [
       "<div>\n",
       "<style scoped>\n",
       "    .dataframe tbody tr th:only-of-type {\n",
       "        vertical-align: middle;\n",
       "    }\n",
       "\n",
       "    .dataframe tbody tr th {\n",
       "        vertical-align: top;\n",
       "    }\n",
       "\n",
       "    .dataframe thead th {\n",
       "        text-align: right;\n",
       "    }\n",
       "</style>\n",
       "<table border=\"1\" class=\"dataframe\">\n",
       "  <thead>\n",
       "    <tr style=\"text-align: right;\">\n",
       "      <th></th>\n",
       "      <th>survived</th>\n",
       "      <th>pclass</th>\n",
       "      <th>name</th>\n",
       "      <th>sex</th>\n",
       "      <th>age</th>\n",
       "      <th>sibspouse</th>\n",
       "      <th>parchild</th>\n",
       "      <th>fare</th>\n",
       "    </tr>\n",
       "  </thead>\n",
       "  <tbody>\n",
       "    <tr>\n",
       "      <td>0</td>\n",
       "      <td>0</td>\n",
       "      <td>3</td>\n",
       "      <td>Mr. Owen Harris Braund</td>\n",
       "      <td>male</td>\n",
       "      <td>22.0</td>\n",
       "      <td>1</td>\n",
       "      <td>0</td>\n",
       "      <td>7.2500</td>\n",
       "    </tr>\n",
       "    <tr>\n",
       "      <td>1</td>\n",
       "      <td>1</td>\n",
       "      <td>1</td>\n",
       "      <td>Mrs. John Bradley (Florence Briggs Thayer) Cum...</td>\n",
       "      <td>female</td>\n",
       "      <td>38.0</td>\n",
       "      <td>1</td>\n",
       "      <td>0</td>\n",
       "      <td>71.2833</td>\n",
       "    </tr>\n",
       "    <tr>\n",
       "      <td>2</td>\n",
       "      <td>1</td>\n",
       "      <td>3</td>\n",
       "      <td>Miss. Laina Heikkinen</td>\n",
       "      <td>female</td>\n",
       "      <td>26.0</td>\n",
       "      <td>0</td>\n",
       "      <td>0</td>\n",
       "      <td>7.9250</td>\n",
       "    </tr>\n",
       "    <tr>\n",
       "      <td>3</td>\n",
       "      <td>1</td>\n",
       "      <td>1</td>\n",
       "      <td>Mrs. Jacques Heath (Lily May Peel) Futrelle</td>\n",
       "      <td>female</td>\n",
       "      <td>35.0</td>\n",
       "      <td>1</td>\n",
       "      <td>0</td>\n",
       "      <td>53.1000</td>\n",
       "    </tr>\n",
       "    <tr>\n",
       "      <td>4</td>\n",
       "      <td>0</td>\n",
       "      <td>3</td>\n",
       "      <td>Mr. William Henry Allen</td>\n",
       "      <td>male</td>\n",
       "      <td>35.0</td>\n",
       "      <td>0</td>\n",
       "      <td>0</td>\n",
       "      <td>8.0500</td>\n",
       "    </tr>\n",
       "  </tbody>\n",
       "</table>\n",
       "</div>"
      ],
      "text/plain": [
       "   survived  pclass                                               name  \\\n",
       "0         0       3                             Mr. Owen Harris Braund   \n",
       "1         1       1  Mrs. John Bradley (Florence Briggs Thayer) Cum...   \n",
       "2         1       3                              Miss. Laina Heikkinen   \n",
       "3         1       1        Mrs. Jacques Heath (Lily May Peel) Futrelle   \n",
       "4         0       3                            Mr. William Henry Allen   \n",
       "\n",
       "      sex   age  sibspouse  parchild     fare  \n",
       "0    male  22.0          1         0   7.2500  \n",
       "1  female  38.0          1         0  71.2833  \n",
       "2  female  26.0          0         0   7.9250  \n",
       "3  female  35.0          1         0  53.1000  \n",
       "4    male  35.0          0         0   8.0500  "
      ]
     },
     "execution_count": 6,
     "metadata": {},
     "output_type": "execute_result"
    }
   ],
   "source": [
    "# verify that the column names have changed\n",
    "df.head()"
   ]
  },
  {
   "cell_type": "code",
   "execution_count": 7,
   "metadata": {},
   "outputs": [],
   "source": [
    "# Drop attribute name\n",
    "# axis = 1 - drop a column\n",
    "df = df.drop('name', axis = 1)"
   ]
  },
  {
   "cell_type": "code",
   "execution_count": 8,
   "metadata": {},
   "outputs": [
    {
     "data": {
      "text/plain": [
       "Index(['survived', 'pclass', 'sex', 'age', 'sibspouse', 'parchild', 'fare'], dtype='object')"
      ]
     },
     "execution_count": 8,
     "metadata": {},
     "output_type": "execute_result"
    }
   ],
   "source": [
    "# new cell, because you cannot rerun the previous line of code\n",
    "# you have already dropped the column 'name' =D\n",
    "df.columns"
   ]
  },
  {
   "cell_type": "code",
   "execution_count": 9,
   "metadata": {},
   "outputs": [
    {
     "data": {
      "text/html": [
       "<div>\n",
       "<style scoped>\n",
       "    .dataframe tbody tr th:only-of-type {\n",
       "        vertical-align: middle;\n",
       "    }\n",
       "\n",
       "    .dataframe tbody tr th {\n",
       "        vertical-align: top;\n",
       "    }\n",
       "\n",
       "    .dataframe thead th {\n",
       "        text-align: right;\n",
       "    }\n",
       "</style>\n",
       "<table border=\"1\" class=\"dataframe\">\n",
       "  <thead>\n",
       "    <tr style=\"text-align: right;\">\n",
       "      <th></th>\n",
       "      <th>survived</th>\n",
       "      <th>pclass</th>\n",
       "      <th>sex</th>\n",
       "      <th>age</th>\n",
       "      <th>sibspouse</th>\n",
       "      <th>parchild</th>\n",
       "      <th>fare</th>\n",
       "    </tr>\n",
       "  </thead>\n",
       "  <tbody>\n",
       "    <tr>\n",
       "      <td>0</td>\n",
       "      <td>0</td>\n",
       "      <td>3</td>\n",
       "      <td>male</td>\n",
       "      <td>22.0</td>\n",
       "      <td>1</td>\n",
       "      <td>0</td>\n",
       "      <td>7.2500</td>\n",
       "    </tr>\n",
       "    <tr>\n",
       "      <td>1</td>\n",
       "      <td>1</td>\n",
       "      <td>1</td>\n",
       "      <td>female</td>\n",
       "      <td>38.0</td>\n",
       "      <td>1</td>\n",
       "      <td>0</td>\n",
       "      <td>71.2833</td>\n",
       "    </tr>\n",
       "    <tr>\n",
       "      <td>2</td>\n",
       "      <td>1</td>\n",
       "      <td>3</td>\n",
       "      <td>female</td>\n",
       "      <td>26.0</td>\n",
       "      <td>0</td>\n",
       "      <td>0</td>\n",
       "      <td>7.9250</td>\n",
       "    </tr>\n",
       "    <tr>\n",
       "      <td>3</td>\n",
       "      <td>1</td>\n",
       "      <td>1</td>\n",
       "      <td>female</td>\n",
       "      <td>35.0</td>\n",
       "      <td>1</td>\n",
       "      <td>0</td>\n",
       "      <td>53.1000</td>\n",
       "    </tr>\n",
       "    <tr>\n",
       "      <td>4</td>\n",
       "      <td>0</td>\n",
       "      <td>3</td>\n",
       "      <td>male</td>\n",
       "      <td>35.0</td>\n",
       "      <td>0</td>\n",
       "      <td>0</td>\n",
       "      <td>8.0500</td>\n",
       "    </tr>\n",
       "  </tbody>\n",
       "</table>\n",
       "</div>"
      ],
      "text/plain": [
       "   survived  pclass     sex   age  sibspouse  parchild     fare\n",
       "0         0       3    male  22.0          1         0   7.2500\n",
       "1         1       1  female  38.0          1         0  71.2833\n",
       "2         1       3  female  26.0          0         0   7.9250\n",
       "3         1       1  female  35.0          1         0  53.1000\n",
       "4         0       3    male  35.0          0         0   8.0500"
      ]
     },
     "execution_count": 9,
     "metadata": {},
     "output_type": "execute_result"
    }
   ],
   "source": [
    "# Verify that the column 'name' has been dropped\n",
    "df.head()"
   ]
  },
  {
   "cell_type": "code",
   "execution_count": 10,
   "metadata": {},
   "outputs": [
    {
     "data": {
      "text/plain": [
       "survived       int64\n",
       "pclass         int64\n",
       "sex           object\n",
       "age          float64\n",
       "sibspouse      int64\n",
       "parchild       int64\n",
       "fare         float64\n",
       "dtype: object"
      ]
     },
     "execution_count": 10,
     "metadata": {},
     "output_type": "execute_result"
    }
   ],
   "source": [
    "# View data types\n",
    "df.dtypes"
   ]
  },
  {
   "cell_type": "code",
   "execution_count": 11,
   "metadata": {},
   "outputs": [
    {
     "data": {
      "text/plain": [
       "count     887\n",
       "unique      2\n",
       "top         0\n",
       "freq      545\n",
       "Name: survived, dtype: object"
      ]
     },
     "execution_count": 11,
     "metadata": {},
     "output_type": "execute_result"
    }
   ],
   "source": [
    "# @testlee0310: The main picture is to describe the 'survived' column in categorical format\n",
    "# so we convert survived column from int64 to string\n",
    "\n",
    "# convert integer to string\n",
    "df['survived'] = df['survived'].astype(str)\n",
    "\n",
    "# this is to display the describe for categorical column.\n",
    "df['survived'].describe()"
   ]
  },
  {
   "cell_type": "code",
   "execution_count": 12,
   "metadata": {},
   "outputs": [
    {
     "data": {
      "text/plain": [
       "0    545\n",
       "1    342\n",
       "Name: survived, dtype: int64"
      ]
     },
     "execution_count": 12,
     "metadata": {},
     "output_type": "execute_result"
    }
   ],
   "source": [
    "# @testlee0309: here survived : not_survived = 342 : 545\n",
    "# i.e.: only 38.56% of the passengers survived\n",
    "\n",
    "# this attribute is slightly inbalanced\n",
    "df['survived'].value_counts()"
   ]
  },
  {
   "cell_type": "code",
   "execution_count": 13,
   "metadata": {},
   "outputs": [
    {
     "data": {
      "text/plain": [
       "survived      object\n",
       "pclass        object\n",
       "sex           object\n",
       "age          float64\n",
       "sibspouse      int64\n",
       "parchild       int64\n",
       "fare         float64\n",
       "dtype: object"
      ]
     },
     "execution_count": 13,
     "metadata": {},
     "output_type": "execute_result"
    }
   ],
   "source": [
    "# ML algorithms: we need to convert certain columns from str >>> numeric.\n",
    "# Here: 'pclass' only, 'sex' is a mistake\n",
    "\n",
    "# convert integer to string\n",
    "df['pclass'] = df['pclass'].astype(str)\n",
    "# df['sex'] = df['sex'].astype(str)\n",
    "# @testlee0310: this line can omit, 'sex' column is already a str.\n",
    "# checking: type(df['sex'][0])\n",
    "\n",
    "# inspect again the column data types\n",
    "df.dtypes"
   ]
  },
  {
   "cell_type": "markdown",
   "metadata": {},
   "source": [
    "Various ML algorithms require numerical input data - represent categorical columns in numerical form.\n",
    "\n",
    "**sex** - string >>> numbers (label encoding: mapping)"
   ]
  },
  {
   "cell_type": "code",
   "execution_count": 14,
   "metadata": {},
   "outputs": [],
   "source": [
    "# This is the ML library!!!\n",
    "# scikit learn\n",
    "from sklearn import preprocessing\n",
    "\n",
    "# Create labelEncoder\n",
    "le = preprocessing.LabelEncoder()\n",
    "\n",
    "# Convert string categories into numbers for sex\n",
    "df['sex'] = le.fit_transform(df['sex'])\n",
    "\n",
    "# f is 0 and m is 1."
   ]
  },
  {
   "cell_type": "markdown",
   "metadata": {},
   "source": [
    "## Train and Validate KNN Classifier\n",
    "\n",
    "The steps are applicable for all ML model deployment.\n",
    "\n",
    "1. Indicate target class and features\n",
    "2. Split the dataset: train, validation, test data\n",
    "3. Training a model (here: KNN) - using **training data**.\n",
    "4. Make prediction - using **validation data**.\n",
    "5. Fine-tuning model (repeat Steps 3 - 4 using different hyperparameters)\n",
    "6. Model evaluation - using **test data**."
   ]
  },
  {
   "cell_type": "markdown",
   "metadata": {},
   "source": [
    "### 1. Indicate target class and features\n",
    "\n",
    "- target: \"survived\"\n",
    "- feature: others except \"survived\""
   ]
  },
  {
   "cell_type": "code",
   "execution_count": 15,
   "metadata": {},
   "outputs": [],
   "source": [
    "# Target (survived or not) - now 'survived' is categorical\n",
    "target = df['survived']\n",
    "\n",
    "# Features - drop survive\n",
    "features = df.drop('survived', axis = 1)"
   ]
  },
  {
   "cell_type": "markdown",
   "metadata": {},
   "source": [
    "### 2. Split the dataset\n",
    "\n",
    "Split the dataset into 3 parts: train, validation, test sets."
   ]
  },
  {
   "cell_type": "code",
   "execution_count": 16,
   "metadata": {},
   "outputs": [
    {
     "name": "stdout",
     "output_type": "stream",
     "text": [
      "567\n",
      "142\n",
      "178\n"
     ]
    }
   ],
   "source": [
    "# Before that, we need library to split datasets :D\n",
    "from sklearn.model_selection import train_test_split\n",
    "\n",
    "size = 0.2\n",
    "\n",
    "# Split the dataset into (1) training + validation set and (2) test set.\n",
    "x, x_test, y, y_test = train_test_split(features, target, test_size = size, random_state = 0)\n",
    "\n",
    "# Split the dataset into (1a) training set and (1b) validation set.\n",
    "x_train, x_dev, y_train, y_dev = train_test_split(x, y, test_size = size, random_state = 10)\n",
    "\n",
    "# @testlee0310: just to view the dataset size after splitting\n",
    "print(len(x_train))\n",
    "print(len(x_dev))\n",
    "print(len(x_test))"
   ]
  },
  {
   "cell_type": "markdown",
   "metadata": {},
   "source": [
    "Note\n",
    "- **test_size**: percentage of test size from 0-1 (100%)\n",
    "- **random_state**: random number generator (seed - fix the random state)\n",
    "\n",
    "### 3. Training a KNN model"
   ]
  },
  {
   "cell_type": "code",
   "execution_count": 17,
   "metadata": {},
   "outputs": [
    {
     "data": {
      "text/plain": [
       "KNeighborsClassifier(algorithm='auto', leaf_size=30, metric='minkowski',\n",
       "                     metric_params=None, n_jobs=None, n_neighbors=1, p=2,\n",
       "                     weights='uniform')"
      ]
     },
     "execution_count": 17,
     "metadata": {},
     "output_type": "execute_result"
    }
   ],
   "source": [
    "# Training a KNN model\n",
    "\n",
    "# Import KNN classifier\n",
    "from sklearn.neighbors import KNeighborsClassifier\n",
    "\n",
    "# Create a KNN classifier with k = 1\n",
    "knn = KNeighborsClassifier(n_neighbors = 1)\n",
    "\n",
    "# Train the model using the training set\n",
    "knn.fit(x_train, y_train)"
   ]
  },
  {
   "cell_type": "markdown",
   "metadata": {},
   "source": [
    "### 4. Predict the target - using development dataset"
   ]
  },
  {
   "cell_type": "code",
   "execution_count": 18,
   "metadata": {},
   "outputs": [
    {
     "data": {
      "text/plain": [
       "array(['0', '0', '1', '1', '0', '1', '0', '1', '0', '1', '1', '1', '1',\n",
       "       '0', '1', '1', '0', '1', '1', '1', '0', '0', '1', '0', '0', '0',\n",
       "       '0', '0', '0', '0', '1', '0', '0', '0', '1', '0', '0', '0', '0',\n",
       "       '0', '0', '1', '1', '1', '1', '0', '0', '0', '0', '0', '1', '0',\n",
       "       '0', '1', '0', '0', '0', '0', '0', '0', '0', '0', '1', '0', '0',\n",
       "       '0', '1', '0', '0', '0', '1', '0', '1', '0', '1', '0', '1', '1',\n",
       "       '1', '0', '0', '0', '0', '1', '0', '0', '0', '1', '1', '0', '1',\n",
       "       '1', '1', '0', '0', '0', '0', '0', '1', '0', '0', '0', '1', '0',\n",
       "       '0', '0', '1', '0', '0', '1', '0', '0', '0', '0', '0', '1', '0',\n",
       "       '1', '0', '0', '0', '0', '0', '0', '1', '0', '0', '0', '0', '0',\n",
       "       '1', '0', '1', '0', '0', '1', '1', '0', '1', '1', '0', '1'],\n",
       "      dtype=object)"
      ]
     },
     "execution_count": 18,
     "metadata": {},
     "output_type": "execute_result"
    }
   ],
   "source": [
    "# Predict the target for the deveopment dataset\n",
    "dev_predict = knn.predict(x_dev)\n",
    "\n",
    "dev_predict"
   ]
  },
  {
   "cell_type": "markdown",
   "metadata": {},
   "source": [
    "### 5. Evaluation"
   ]
  },
  {
   "cell_type": "code",
   "execution_count": 19,
   "metadata": {},
   "outputs": [
    {
     "name": "stdout",
     "output_type": "stream",
     "text": [
      "Accuracy:  0.6971830985915493\n"
     ]
    }
   ],
   "source": [
    "# Evaluation\n",
    "\n",
    "# Import scikit-learn metrics modlue for accuracy calculation\n",
    "from sklearn import metrics\n",
    "\n",
    "# Compute the model accuracy on the dev set.\n",
    "print(\"Accuracy: \", metrics.accuracy_score(y_dev, dev_predict))"
   ]
  },
  {
   "cell_type": "markdown",
   "metadata": {},
   "source": [
    "The accuracy for `k = 1` is approx. 70%."
   ]
  },
  {
   "cell_type": "markdown",
   "metadata": {},
   "source": [
    "## Tune Parameters\n",
    "\n",
    "For KNN (`KNeighborsClassifier()`), there are 4 hyperparameters to tune:\n",
    "\n",
    "### `n_neighbors`\n",
    "\n",
    "### `weights`\n",
    "default: `uniform`\n",
    "\n",
    "### `algorithm`\n",
    "default: `auto`\n",
    "\n",
    "### `p`\n",
    "The \"p\" value of the Minkowski parameter - `1` for **Manhanttan distance**; `2` for **Euclidean distance**"
   ]
  },
  {
   "cell_type": "markdown",
   "metadata": {},
   "source": [
    "### 1. Change `n_neighbors` to 5"
   ]
  },
  {
   "cell_type": "code",
   "execution_count": 20,
   "metadata": {},
   "outputs": [],
   "source": [
    "# # Create a KNN classifier with k = 5\n",
    "# knn = KNeighborsClassifier(n_neighbors = 5)\n",
    "\n",
    "# # Train the model using the training set\n",
    "# knn.fit(x_train, y_train)\n",
    "\n",
    "# # Predict the target for the development set\n",
    "# dev_predict = knn.predict(x_dev)\n",
    "\n",
    "# # Compute the model accuracy on the development set: How often is the classifier correct?\n",
    "# print(\"Accuracy: \", metrics.accuracy_score(y_dev, dev_predict))"
   ]
  },
  {
   "cell_type": "code",
   "execution_count": 21,
   "metadata": {},
   "outputs": [
    {
     "name": "stdout",
     "output_type": "stream",
     "text": [
      "Accuracy: 0.6830985915492958\n"
     ]
    }
   ],
   "source": [
    "_ = tune_knn(x_train, y_train, x_dev, y_dev, k = 5)  # @ym_helper_classification"
   ]
  },
  {
   "cell_type": "markdown",
   "metadata": {},
   "source": [
    "### 2. Use `for` loop, for 30 times (k = 1:29)\n",
    "\n",
    "Go back and revise this one.\n",
    "\n",
    "Update my helper function list."
   ]
  },
  {
   "cell_type": "code",
   "execution_count": 22,
   "metadata": {},
   "outputs": [],
   "source": [
    "# # Initialize 2 empty lists (K and validation) to store the values of k and validation score\n",
    "# # Initialize 1 empty dictionary (scores) to store the k:validation_score (key:value) pairs\n",
    "# K = []\n",
    "# validation = []\n",
    "# scores = {}\n",
    "\n",
    "# # The for loop will test k values from 1 to 29\n",
    "# for k in range(1, 30):\n",
    "\n",
    "#     clf = KNeighborsClassifier(n_neighbors = k)\n",
    "#     clf.fit(x_train, y_train)\n",
    "    \n",
    "#     # Can also use the score() function to compute accuracy\n",
    "#     # Compute accuracy by applying the model on the development set\n",
    "#     validation_score = clf.score(x_dev, y_dev) # @testlee0309: this is an important line.\n",
    "    \n",
    "#     # Adds a single item (k value) to the list\n",
    "#     K.append(k)\n",
    "#     validation.append(validation_score)\n",
    "    \n",
    "#     # A dictionary holds key:value pairs\n",
    "#     # Store the validation score for each value of k (k is the key)\n",
    "#     scores[k] = [validation_score]\n",
    "\n",
    "# # Print the key:value pairs in scores\n",
    "# for keys, values in scores.items():\n",
    "#     print(keys, ':', values)"
   ]
  },
  {
   "cell_type": "code",
   "execution_count": 23,
   "metadata": {},
   "outputs": [
    {
     "name": "stdout",
     "output_type": "stream",
     "text": [
      "Find optimum k:\n",
      "\n",
      "k: 1\t| Accuracy: 0.6971830985915493\n",
      "k: 2\t| Accuracy: 0.647887323943662\n",
      "k: 3\t| Accuracy: 0.676056338028169\n",
      "k: 4\t| Accuracy: 0.6690140845070423\n",
      "k: 5\t| Accuracy: 0.6830985915492958\n",
      "k: 6\t| Accuracy: 0.6619718309859155\n",
      "k: 7\t| Accuracy: 0.676056338028169\n",
      "k: 8\t| Accuracy: 0.6549295774647887\n",
      "k: 9\t| Accuracy: 0.6619718309859155\n",
      "k: 10\t| Accuracy: 0.6690140845070423\n",
      "k: 11\t| Accuracy: 0.6830985915492958\n",
      "k: 12\t| Accuracy: 0.647887323943662\n",
      "k: 13\t| Accuracy: 0.6619718309859155\n",
      "k: 14\t| Accuracy: 0.6549295774647887\n",
      "k: 15\t| Accuracy: 0.6830985915492958\n",
      "k: 16\t| Accuracy: 0.6830985915492958\n",
      "k: 17\t| Accuracy: 0.676056338028169\n",
      "k: 18\t| Accuracy: 0.6830985915492958\n",
      "k: 19\t| Accuracy: 0.7253521126760564\n",
      "k: 20\t| Accuracy: 0.7464788732394366\n",
      "k: 21\t| Accuracy: 0.7253521126760564\n",
      "k: 22\t| Accuracy: 0.7323943661971831\n",
      "k: 23\t| Accuracy: 0.7394366197183099\n",
      "k: 24\t| Accuracy: 0.7394366197183099\n",
      "k: 25\t| Accuracy: 0.7464788732394366\n",
      "k: 26\t| Accuracy: 0.7464788732394366\n",
      "k: 27\t| Accuracy: 0.7605633802816901\n",
      "k: 28\t| Accuracy: 0.7816901408450704\n",
      "k: 29\t| Accuracy: 0.7746478873239436\n",
      "\n",
      "The optimum k value is 28 with validation accuracy 0.7816901408450704.\n"
     ]
    }
   ],
   "source": [
    "k_list = []\n",
    "validation_list = []\n",
    "\n",
    "max_val = 0.0\n",
    "k_max_val = 1\n",
    "\n",
    "print(\"Find optimum k:\\n\")\n",
    "\n",
    "for k in range(1,30):\n",
    "    print(\"k: {0}\\t|\".format(k), end = ' ')\n",
    "    _, validation = tune_knn(x_train, y_train, x_dev, y_dev, k)  # @ym_helper_classification\n",
    "    \n",
    "    k_list.append(k)\n",
    "    validation_list.append(validation)\n",
    "    \n",
    "    if validation > max_val:\n",
    "        max_val = validation\n",
    "        k_max_val = k\n",
    "\n",
    "print(\"\\nThe optimum k value is {0} with validation accuracy {1}.\".format(k_max_val, max_val))"
   ]
  },
  {
   "cell_type": "code",
   "execution_count": 24,
   "metadata": {
    "scrolled": false
   },
   "outputs": [
    {
     "data": {
      "image/png": "[encoded data removed]",
      "text/plain": [
       "<Figure size 720x576 with 1 Axes>"
      ]
     },
     "metadata": {
      "needs_background": "light"
     },
     "output_type": "display_data"
    }
   ],
   "source": [
    "# Import matplotlib library\n",
    "import matplotlib.pyplot as plt\n",
    "\n",
    "# Set font and plot size to be larger\n",
    "plt.rcParams.update({'font.size': 20, 'figure.figsize': (10, 8)})\n",
    "\n",
    "plt.scatter(k_list, validation_list, color = 'g')\n",
    "plt.show()"
   ]
  },
  {
   "cell_type": "markdown",
   "metadata": {},
   "source": [
    "### 3. Change parameter `p` to 1.\n",
    "\n",
    "One of the parameters in `KNeighborsClassifier()`, the `p` value, is the power parameter for the **Monkowski metric** _(as mentioned earlier)_.\n",
    "\n",
    "- `p == 1`: the KNN model takes the _Manhanttan distance_.\n",
    "- `p == 2` (default): the KNN model takes the _Euclidean distance_."
   ]
  },
  {
   "cell_type": "code",
   "execution_count": 25,
   "metadata": {},
   "outputs": [
    {
     "name": "stdout",
     "output_type": "stream",
     "text": [
      "p: 2\t| Accuracy: 0.7816901408450704\n",
      "p: 1\t| Accuracy: 0.7605633802816901\n"
     ]
    }
   ],
   "source": [
    "print(\"p: 2\\t|\", end = ' ')\n",
    "_ = tune_knn(x_train, y_train, x_dev, y_dev, 28)  # @ym_helper_classification\n",
    "\n",
    "print(\"p: 1\\t|\", end = ' ')\n",
    "_ = tune_knn(x_train, y_train, x_dev, y_dev, k = 28, p_value = 1)  # @ym_helper_classification"
   ]
  },
  {
   "cell_type": "markdown",
   "metadata": {},
   "source": [
    "Changing `p` from `2` to `1` does not improve the model accuracy."
   ]
  },
  {
   "cell_type": "markdown",
   "metadata": {},
   "source": [
    "## Test Model for Generalization Error"
   ]
  },
  {
   "cell_type": "code",
   "execution_count": 26,
   "metadata": {},
   "outputs": [
    {
     "name": "stdout",
     "output_type": "stream",
     "text": [
      "Training Accuracy\n",
      "k: 28\t| Accuracy: 0.7816901408450704\n"
     ]
    }
   ],
   "source": [
    "# The optimum k value is 28.\n",
    "k_optimum = 28\n",
    "\n",
    "# Training accuracy (using validation/development set)\n",
    "print(\"Training Accuracy\\nk: {0}\\t|\".format(k_optimum), end = ' ')\n",
    "knn, _ = tune_knn(x_train, y_train, x_dev, y_dev, k_optimum)  # @ym_helper_classification"
   ]
  },
  {
   "cell_type": "code",
   "execution_count": 27,
   "metadata": {},
   "outputs": [
    {
     "name": "stdout",
     "output_type": "stream",
     "text": [
      "Test Accuracy\n",
      "k: 28\t| Accuracy: 0.7247191011235955\n"
     ]
    }
   ],
   "source": [
    "# Test accuracy (using test set - generalization error)\n",
    "test_predict = knn.predict(x_test)\n",
    "\n",
    "print(\"Test Accuracy\\nk: {0}\\t|\".format(k_optimum), end = ' ')\n",
    "_ = print_accuracy(y_test, test_predict)  # @ym_helper_classification"
   ]
  },
  {
   "cell_type": "markdown",
   "metadata": {},
   "source": [
    "## Standardize Features\n",
    "\n",
    "Do this and then repeat the whole process.\n",
    "\n",
    "Here because distance between point really matter a lot in KNN, **variables that are on a large scale will have a much arger effect on the distance between the observations.**\n",
    "\n",
    "Therefore, a standardized/normalized variable will cancel out all the bias towards such variables."
   ]
  },
  {
   "cell_type": "code",
   "execution_count": 28,
   "metadata": {},
   "outputs": [
    {
     "data": {
      "text/html": [
       "<div>\n",
       "<style scoped>\n",
       "    .dataframe tbody tr th:only-of-type {\n",
       "        vertical-align: middle;\n",
       "    }\n",
       "\n",
       "    .dataframe tbody tr th {\n",
       "        vertical-align: top;\n",
       "    }\n",
       "\n",
       "    .dataframe thead th {\n",
       "        text-align: right;\n",
       "    }\n",
       "</style>\n",
       "<table border=\"1\" class=\"dataframe\">\n",
       "  <thead>\n",
       "    <tr style=\"text-align: right;\">\n",
       "      <th></th>\n",
       "      <th>pclass</th>\n",
       "      <th>sex</th>\n",
       "      <th>age</th>\n",
       "      <th>sibspouse</th>\n",
       "      <th>parchild</th>\n",
       "      <th>fare</th>\n",
       "    </tr>\n",
       "  </thead>\n",
       "  <tbody>\n",
       "    <tr>\n",
       "      <td>0</td>\n",
       "      <td>3</td>\n",
       "      <td>1</td>\n",
       "      <td>22.0</td>\n",
       "      <td>1</td>\n",
       "      <td>0</td>\n",
       "      <td>7.2500</td>\n",
       "    </tr>\n",
       "    <tr>\n",
       "      <td>1</td>\n",
       "      <td>1</td>\n",
       "      <td>0</td>\n",
       "      <td>38.0</td>\n",
       "      <td>1</td>\n",
       "      <td>0</td>\n",
       "      <td>71.2833</td>\n",
       "    </tr>\n",
       "    <tr>\n",
       "      <td>2</td>\n",
       "      <td>3</td>\n",
       "      <td>0</td>\n",
       "      <td>26.0</td>\n",
       "      <td>0</td>\n",
       "      <td>0</td>\n",
       "      <td>7.9250</td>\n",
       "    </tr>\n",
       "    <tr>\n",
       "      <td>3</td>\n",
       "      <td>1</td>\n",
       "      <td>0</td>\n",
       "      <td>35.0</td>\n",
       "      <td>1</td>\n",
       "      <td>0</td>\n",
       "      <td>53.1000</td>\n",
       "    </tr>\n",
       "    <tr>\n",
       "      <td>4</td>\n",
       "      <td>3</td>\n",
       "      <td>1</td>\n",
       "      <td>35.0</td>\n",
       "      <td>0</td>\n",
       "      <td>0</td>\n",
       "      <td>8.0500</td>\n",
       "    </tr>\n",
       "  </tbody>\n",
       "</table>\n",
       "</div>"
      ],
      "text/plain": [
       "  pclass  sex   age  sibspouse  parchild     fare\n",
       "0      3    1  22.0          1         0   7.2500\n",
       "1      1    0  38.0          1         0  71.2833\n",
       "2      3    0  26.0          0         0   7.9250\n",
       "3      1    0  35.0          1         0  53.1000\n",
       "4      3    1  35.0          0         0   8.0500"
      ]
     },
     "execution_count": 28,
     "metadata": {},
     "output_type": "execute_result"
    }
   ],
   "source": [
    "# Recall our features\n",
    "features.head()"
   ]
  },
  {
   "cell_type": "code",
   "execution_count": 29,
   "metadata": {},
   "outputs": [
    {
     "name": "stdout",
     "output_type": "stream",
     "text": [
      "count    887.00000\n",
      "mean      32.30542\n",
      "std       49.78204\n",
      "min        0.00000\n",
      "25%        7.92500\n",
      "50%       14.45420\n",
      "75%       31.13750\n",
      "max      512.32920\n",
      "Name: fare, dtype: float64\n",
      "\n",
      "\n",
      "count    887.000000\n",
      "mean      29.471443\n",
      "std       14.121908\n",
      "min        0.420000\n",
      "25%       20.250000\n",
      "50%       28.000000\n",
      "75%       38.000000\n",
      "max       80.000000\n",
      "Name: age, dtype: float64\n"
     ]
    }
   ],
   "source": [
    "print(features['fare'].describe())\n",
    "print(\"\\n\")\n",
    "print(features['age'].describe())"
   ]
  },
  {
   "cell_type": "markdown",
   "metadata": {},
   "source": [
    "As you can see, the range of columns \"fare\" and \"age\" are really large, i.e.:\n",
    "- \"fare\": 0 (min) to 500+ (max), and \n",
    "- \"age\": 0 (min) to 80 (max),\n",
    "\n",
    "while some of our attributes only has possible values of 0 and 1.\n",
    "\n",
    "Therefore, our previous model is biased towards \"fares\" and then \"age\" for sure."
   ]
  },
  {
   "cell_type": "code",
   "execution_count": 30,
   "metadata": {},
   "outputs": [
    {
     "data": {
      "text/html": [
       "<div>\n",
       "<style scoped>\n",
       "    .dataframe tbody tr th:only-of-type {\n",
       "        vertical-align: middle;\n",
       "    }\n",
       "\n",
       "    .dataframe tbody tr th {\n",
       "        vertical-align: top;\n",
       "    }\n",
       "\n",
       "    .dataframe thead th {\n",
       "        text-align: right;\n",
       "    }\n",
       "</style>\n",
       "<table border=\"1\" class=\"dataframe\">\n",
       "  <thead>\n",
       "    <tr style=\"text-align: right;\">\n",
       "      <th></th>\n",
       "      <th>pclass</th>\n",
       "      <th>sex</th>\n",
       "      <th>age</th>\n",
       "      <th>sibspouse</th>\n",
       "      <th>parchild</th>\n",
       "      <th>fare</th>\n",
       "    </tr>\n",
       "  </thead>\n",
       "  <tbody>\n",
       "    <tr>\n",
       "      <td>0</td>\n",
       "      <td>0.830524</td>\n",
       "      <td>0.740266</td>\n",
       "      <td>-0.529366</td>\n",
       "      <td>0.429904</td>\n",
       "      <td>-0.474981</td>\n",
       "      <td>-0.503586</td>\n",
       "    </tr>\n",
       "    <tr>\n",
       "      <td>1</td>\n",
       "      <td>-1.561277</td>\n",
       "      <td>-1.350867</td>\n",
       "      <td>0.604265</td>\n",
       "      <td>0.429904</td>\n",
       "      <td>-0.474981</td>\n",
       "      <td>0.783412</td>\n",
       "    </tr>\n",
       "    <tr>\n",
       "      <td>2</td>\n",
       "      <td>0.830524</td>\n",
       "      <td>-1.350867</td>\n",
       "      <td>-0.245958</td>\n",
       "      <td>-0.475856</td>\n",
       "      <td>-0.474981</td>\n",
       "      <td>-0.490020</td>\n",
       "    </tr>\n",
       "    <tr>\n",
       "      <td>3</td>\n",
       "      <td>-1.561277</td>\n",
       "      <td>-1.350867</td>\n",
       "      <td>0.391709</td>\n",
       "      <td>0.429904</td>\n",
       "      <td>-0.474981</td>\n",
       "      <td>0.417948</td>\n",
       "    </tr>\n",
       "    <tr>\n",
       "      <td>4</td>\n",
       "      <td>0.830524</td>\n",
       "      <td>0.740266</td>\n",
       "      <td>0.391709</td>\n",
       "      <td>-0.475856</td>\n",
       "      <td>-0.474981</td>\n",
       "      <td>-0.487507</td>\n",
       "    </tr>\n",
       "  </tbody>\n",
       "</table>\n",
       "</div>"
      ],
      "text/plain": [
       "     pclass       sex       age  sibspouse  parchild      fare\n",
       "0  0.830524  0.740266 -0.529366   0.429904 -0.474981 -0.503586\n",
       "1 -1.561277 -1.350867  0.604265   0.429904 -0.474981  0.783412\n",
       "2  0.830524 -1.350867 -0.245958  -0.475856 -0.474981 -0.490020\n",
       "3 -1.561277 -1.350867  0.391709   0.429904 -0.474981  0.417948\n",
       "4  0.830524  0.740266  0.391709  -0.475856 -0.474981 -0.487507"
      ]
     },
     "execution_count": 30,
     "metadata": {},
     "output_type": "execute_result"
    }
   ],
   "source": [
    "# from sklearn import preprocessing\n",
    "# @testlee0310: the same library for LabelEncoder -> recall 'sex'\n",
    "names = features.columns\n",
    "\n",
    "# Create the Scaler object\n",
    "scaler = preprocessing.StandardScaler()\n",
    "\n",
    "# Fit the data on the Scaler object\n",
    "scaled_features = scaler.fit_transform(features)\n",
    "\n",
    "# After standardization, scaled_features is transformed into an array\n",
    "# so we need to convert it into a data frame.\n",
    "scaled_features = pd.DataFrame(scaled_features, columns = names)\n",
    "\n",
    "scaled_features.head()"
   ]
  },
  {
   "cell_type": "code",
   "execution_count": 31,
   "metadata": {},
   "outputs": [],
   "source": [
    "# Now we go back to Step 2 from previous section\n",
    "\n",
    "# from sklearn.model_selection import train_test_split\n",
    "# @testlee0310: the same library used to split data.\n",
    "\n",
    "# still using the same test_size, because we need to compare the result.\n",
    "size = 0.2\n",
    "\n",
    "# Split the dataset into (1) training + validation set and (2) test set.\n",
    "x, x_test, y, y_test = train_test_split(scaled_features, target, test_size = size, random_state = 0)\n",
    "\n",
    "# Split the dataset into (1a) training set and (1b) validation set.\n",
    "x_train, x_dev, y_train, y_dev = train_test_split(x, y, test_size = size, random_state = 10)"
   ]
  },
  {
   "cell_type": "code",
   "execution_count": 32,
   "metadata": {},
   "outputs": [
    {
     "name": "stdout",
     "output_type": "stream",
     "text": [
      "Training accuracy\n",
      "Accuracy: 0.8380281690140845\n"
     ]
    }
   ],
   "source": [
    "# Training accuracy (using validation/development set)\n",
    "print(\"Training accuracy\")\n",
    "knn, _ = tune_knn(x_train, y_train, x_dev, y_dev, 3)  # @ym_helper_classification"
   ]
  },
  {
   "cell_type": "code",
   "execution_count": 33,
   "metadata": {},
   "outputs": [
    {
     "name": "stdout",
     "output_type": "stream",
     "text": [
      "Test accuracy\n",
      "Accuracy: 0.7752808988764045\n"
     ]
    }
   ],
   "source": [
    "# Test accuracy (using test set - generalization error)\n",
    "test_predict = knn.predict(x_test)\n",
    "\n",
    "print(\"Test accuracy\")\n",
    "_ = print_accuracy(y_test, test_predict)  # @ym_helper_classification"
   ]
  },
  {
   "cell_type": "markdown",
   "metadata": {},
   "source": [
    "## Export Data Frame to CSV\n",
    "\n",
    "This one is important: why we have 'r' =D\n",
    "https://datatofish.com/export-dataframe-to-csv/\n",
    "\n",
    "'r' is to take care of any symbols within the path name, such as backslash '\\' character."
   ]
  },
  {
   "cell_type": "markdown",
   "metadata": {},
   "source": [
    "### Save the original data frame"
   ]
  },
  {
   "cell_type": "code",
   "execution_count": 35,
   "metadata": {},
   "outputs": [
    {
     "data": {
      "text/html": [
       "<div>\n",
       "<style scoped>\n",
       "    .dataframe tbody tr th:only-of-type {\n",
       "        vertical-align: middle;\n",
       "    }\n",
       "\n",
       "    .dataframe tbody tr th {\n",
       "        vertical-align: top;\n",
       "    }\n",
       "\n",
       "    .dataframe thead th {\n",
       "        text-align: right;\n",
       "    }\n",
       "</style>\n",
       "<table border=\"1\" class=\"dataframe\">\n",
       "  <thead>\n",
       "    <tr style=\"text-align: right;\">\n",
       "      <th></th>\n",
       "      <th>survived</th>\n",
       "      <th>pclass</th>\n",
       "      <th>sex</th>\n",
       "      <th>age</th>\n",
       "      <th>sibspouse</th>\n",
       "      <th>parchild</th>\n",
       "      <th>fare</th>\n",
       "    </tr>\n",
       "  </thead>\n",
       "  <tbody>\n",
       "    <tr>\n",
       "      <td>0</td>\n",
       "      <td>0</td>\n",
       "      <td>3</td>\n",
       "      <td>1</td>\n",
       "      <td>22.0</td>\n",
       "      <td>1</td>\n",
       "      <td>0</td>\n",
       "      <td>7.2500</td>\n",
       "    </tr>\n",
       "    <tr>\n",
       "      <td>1</td>\n",
       "      <td>1</td>\n",
       "      <td>1</td>\n",
       "      <td>0</td>\n",
       "      <td>38.0</td>\n",
       "      <td>1</td>\n",
       "      <td>0</td>\n",
       "      <td>71.2833</td>\n",
       "    </tr>\n",
       "    <tr>\n",
       "      <td>2</td>\n",
       "      <td>1</td>\n",
       "      <td>3</td>\n",
       "      <td>0</td>\n",
       "      <td>26.0</td>\n",
       "      <td>0</td>\n",
       "      <td>0</td>\n",
       "      <td>7.9250</td>\n",
       "    </tr>\n",
       "    <tr>\n",
       "      <td>3</td>\n",
       "      <td>1</td>\n",
       "      <td>1</td>\n",
       "      <td>0</td>\n",
       "      <td>35.0</td>\n",
       "      <td>1</td>\n",
       "      <td>0</td>\n",
       "      <td>53.1000</td>\n",
       "    </tr>\n",
       "    <tr>\n",
       "      <td>4</td>\n",
       "      <td>0</td>\n",
       "      <td>3</td>\n",
       "      <td>1</td>\n",
       "      <td>35.0</td>\n",
       "      <td>0</td>\n",
       "      <td>0</td>\n",
       "      <td>8.0500</td>\n",
       "    </tr>\n",
       "  </tbody>\n",
       "</table>\n",
       "</div>"
      ],
      "text/plain": [
       "  survived pclass  sex   age  sibspouse  parchild     fare\n",
       "0        0      3    1  22.0          1         0   7.2500\n",
       "1        1      1    0  38.0          1         0  71.2833\n",
       "2        1      3    0  26.0          0         0   7.9250\n",
       "3        1      1    0  35.0          1         0  53.1000\n",
       "4        0      3    1  35.0          0         0   8.0500"
      ]
     },
     "execution_count": 35,
     "metadata": {},
     "output_type": "execute_result"
    }
   ],
   "source": [
    "# View the first 5 rows of original data frame\n",
    "df.head()"
   ]
  },
  {
   "cell_type": "code",
   "execution_count": 36,
   "metadata": {},
   "outputs": [],
   "source": [
    "# Save the original data after data cleaning.\n",
    "df.to_csv(r'titanic_unscaled.csv', index = False, header = True)\n",
    "# @testlee0310: I like it, the parameter name are quite self-explaining."
   ]
  },
  {
   "cell_type": "markdown",
   "metadata": {},
   "source": [
    "### Save the scaled data frame"
   ]
  },
  {
   "cell_type": "code",
   "execution_count": 37,
   "metadata": {},
   "outputs": [
    {
     "data": {
      "text/html": [
       "<div>\n",
       "<style scoped>\n",
       "    .dataframe tbody tr th:only-of-type {\n",
       "        vertical-align: middle;\n",
       "    }\n",
       "\n",
       "    .dataframe tbody tr th {\n",
       "        vertical-align: top;\n",
       "    }\n",
       "\n",
       "    .dataframe thead th {\n",
       "        text-align: right;\n",
       "    }\n",
       "</style>\n",
       "<table border=\"1\" class=\"dataframe\">\n",
       "  <thead>\n",
       "    <tr style=\"text-align: right;\">\n",
       "      <th></th>\n",
       "      <th>survived</th>\n",
       "      <th>pclass</th>\n",
       "      <th>sex</th>\n",
       "      <th>age</th>\n",
       "      <th>sibspouse</th>\n",
       "      <th>parchild</th>\n",
       "      <th>fare</th>\n",
       "    </tr>\n",
       "  </thead>\n",
       "  <tbody>\n",
       "    <tr>\n",
       "      <td>0</td>\n",
       "      <td>0</td>\n",
       "      <td>0.830524</td>\n",
       "      <td>0.740266</td>\n",
       "      <td>-0.529366</td>\n",
       "      <td>0.429904</td>\n",
       "      <td>-0.474981</td>\n",
       "      <td>-0.503586</td>\n",
       "    </tr>\n",
       "    <tr>\n",
       "      <td>1</td>\n",
       "      <td>1</td>\n",
       "      <td>-1.561277</td>\n",
       "      <td>-1.350867</td>\n",
       "      <td>0.604265</td>\n",
       "      <td>0.429904</td>\n",
       "      <td>-0.474981</td>\n",
       "      <td>0.783412</td>\n",
       "    </tr>\n",
       "    <tr>\n",
       "      <td>2</td>\n",
       "      <td>1</td>\n",
       "      <td>0.830524</td>\n",
       "      <td>-1.350867</td>\n",
       "      <td>-0.245958</td>\n",
       "      <td>-0.475856</td>\n",
       "      <td>-0.474981</td>\n",
       "      <td>-0.490020</td>\n",
       "    </tr>\n",
       "    <tr>\n",
       "      <td>3</td>\n",
       "      <td>1</td>\n",
       "      <td>-1.561277</td>\n",
       "      <td>-1.350867</td>\n",
       "      <td>0.391709</td>\n",
       "      <td>0.429904</td>\n",
       "      <td>-0.474981</td>\n",
       "      <td>0.417948</td>\n",
       "    </tr>\n",
       "    <tr>\n",
       "      <td>4</td>\n",
       "      <td>0</td>\n",
       "      <td>0.830524</td>\n",
       "      <td>0.740266</td>\n",
       "      <td>0.391709</td>\n",
       "      <td>-0.475856</td>\n",
       "      <td>-0.474981</td>\n",
       "      <td>-0.487507</td>\n",
       "    </tr>\n",
       "  </tbody>\n",
       "</table>\n",
       "</div>"
      ],
      "text/plain": [
       "  survived    pclass       sex       age  sibspouse  parchild      fare\n",
       "0        0  0.830524  0.740266 -0.529366   0.429904 -0.474981 -0.503586\n",
       "1        1 -1.561277 -1.350867  0.604265   0.429904 -0.474981  0.783412\n",
       "2        1  0.830524 -1.350867 -0.245958  -0.475856 -0.474981 -0.490020\n",
       "3        1 -1.561277 -1.350867  0.391709   0.429904 -0.474981  0.417948\n",
       "4        0  0.830524  0.740266  0.391709  -0.475856 -0.474981 -0.487507"
      ]
     },
     "execution_count": 37,
     "metadata": {},
     "output_type": "execute_result"
    }
   ],
   "source": [
    "# Concatenate scaled features with target\n",
    "# @testlee0310: remember that our scaled_features and target? We want to join them back together.\n",
    "df_scaled = pd.concat([target, scaled_features], axis = 1)\n",
    "df_scaled.head()"
   ]
  },
  {
   "cell_type": "code",
   "execution_count": 38,
   "metadata": {},
   "outputs": [],
   "source": [
    "# Save the data with scaled features and target\n",
    "df_scaled.to_csv(r'titanic_scaled.csv', index = False, header = True)"
   ]
  },
  {
   "cell_type": "code",
   "execution_count": 39,
   "metadata": {},
   "outputs": [],
   "source": [
    "# DONE!!!\n",
    "# @testlee0310: what happened if we save it without r?\n",
    "df_scaled.to_csv(r'titanic_scaled2.csv', index = False, header = True)"
   ]
  },
  {
   "cell_type": "code",
   "execution_count": null,
   "metadata": {},
   "outputs": [],
   "source": []
  }
 ],
 "metadata": {
  "kernelspec": {
   "display_name": "Python 3",
   "language": "python",
   "name": "python3"
  },
  "language_info": {
   "codemirror_mode": {
    "name": "ipython",
    "version": 3
   },
   "file_extension": ".py",
   "mimetype": "text/x-python",
   "name": "python",
   "nbconvert_exporter": "python",
   "pygments_lexer": "ipython3",
   "version": "3.7.4"
  }
 },
 "nbformat": 4,
 "nbformat_minor": 2
}
